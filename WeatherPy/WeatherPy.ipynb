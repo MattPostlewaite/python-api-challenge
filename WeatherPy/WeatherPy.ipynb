{
 "cells": [
  {
   "cell_type": "markdown",
   "metadata": {},
   "source": [
    "# WeatherPy\n",
    "----\n",
    "\n",
    "#### Note\n",
    "* Instructions have been included for each segment. You do not have to follow them exactly, but they are included to help you think through the steps."
   ]
  },
  {
   "cell_type": "code",
   "execution_count": 1,
   "metadata": {
    "scrolled": true
   },
   "outputs": [
    {
     "name": "stdout",
     "output_type": "stream",
     "text": [
      "0b6dfa3892b2a54cd7cb3b5c3fca45da\n"
     ]
    }
   ],
   "source": [
    "# Dependencies and Setup\n",
    "import matplotlib.pyplot as plt\n",
    "import pandas as pd\n",
    "import numpy as np\n",
    "import requests\n",
    "import json\n",
    "import time\n",
    "from scipy.stats import linregress\n",
    "from pprint import pprint\n",
    "\n",
    "# Import API key\n",
    "from config import api_key\n",
    "\n",
    "# Incorporated citipy to determine city based on latitude and longitude\n",
    "from citipy import citipy\n",
    "\n",
    "# Output File (CSV)\n",
    "output_data_file = \"output_data/cities.csv\"\n",
    "\n",
    "# Range of latitudes and longitudes\n",
    "lat_range = (-90, 90)\n",
    "lng_range = (-180, 180)\n",
    "print(api_key)"
   ]
  },
  {
   "cell_type": "code",
   "execution_count": 2,
   "metadata": {
    "tags": []
   },
   "outputs": [
    {
     "name": "stdout",
     "output_type": "stream",
     "text": [
      "http://api.openweathermap.org/data/2.5/weather?appid=0b6dfa3892b2a54cd7cb3b5c3fca45da&q=City\n"
     ]
    }
   ],
   "source": [
    "# Save config information\n",
    "url = \"http://api.openweathermap.org/data/2.5/weather?\"\n",
    "# city = [{\"ostrovnoy\", \"mahebourg\", \"qaanaaq\", \"zhuhai\", \"cape town\",...\"tongren\"}]\n",
    "city = [\"ostrovnoy\"]\n",
    "\n",
    "# Build query URL\n",
    "query_url = url + \"appid=\" + api_key + \"&q=\" + 'City'\n",
    "query_url\n",
    "print(query_url)\n",
    "\n",
    "# Build query URL and request your results in Celsius\n",
    "\n",
    "# base_url = \"http://api.openweathermap.org/data/2.5/weather?\"\n",
    "# query_url = f\"{base_url}appid={api_key}\"\n",
    "# for city in cities:\n",
    "#     city_url = query_url = \"&q=\" + city\n",
    "#     city_weather = requests.get(city_url).json()"
   ]
  },
  {
   "cell_type": "code",
   "execution_count": 3,
   "metadata": {
    "collapsed": true,
    "jupyter": {
     "outputs_hidden": true
    },
    "tags": []
   },
   "outputs": [
    {
     "name": "stdout",
     "output_type": "stream",
     "text": [
      "{'base': 'stations',\n",
      " 'clouds': {'all': 40},\n",
      " 'cod': 200,\n",
      " 'coord': {'lat': -35.2813, 'lon': 149.1292},\n",
      " 'dt': 1644364669,\n",
      " 'id': 2172517,\n",
      " 'main': {'feels_like': 293.45,\n",
      "          'humidity': 88,\n",
      "          'pressure': 1014,\n",
      "          'temp': 293.1,\n",
      "          'temp_max': 297.84,\n",
      "          'temp_min': 290.14},\n",
      " 'name': 'City',\n",
      " 'sys': {'country': 'AU',\n",
      "         'id': 9588,\n",
      "         'sunrise': 1644348617,\n",
      "         'sunset': 1644397511,\n",
      "         'type': 1},\n",
      " 'timezone': 39600,\n",
      " 'visibility': 10000,\n",
      " 'weather': [{'description': 'scattered clouds',\n",
      "              'icon': '03d',\n",
      "              'id': 802,\n",
      "              'main': 'Clouds'}],\n",
      " 'wind': {'deg': 330, 'speed': 2.06}}\n"
     ]
    }
   ],
   "source": [
    "# Get weather data\n",
    "weather_response = requests.get(query_url)\n",
    "weather_json = weather_response.json()\n",
    "\n",
    "pprint(weather_json)"
   ]
  },
  {
   "cell_type": "code",
   "execution_count": 8,
   "metadata": {
    "collapsed": true,
    "jupyter": {
     "outputs_hidden": true
    },
    "tags": []
   },
   "outputs": [
    {
     "name": "stdout",
     "output_type": "stream",
     "text": [
      "http://api.openweathermap.org/data/2.5/weather?appid=0b6dfa3892b2a54cd7cb3b5c3fca45da&q=mahebourg\n",
      "{'base': 'stations',\n",
      " 'clouds': {'all': 100},\n",
      " 'cod': 200,\n",
      " 'coord': {'lat': -20.4081, 'lon': 57.7},\n",
      " 'dt': 1644364906,\n",
      " 'id': 934322,\n",
      " 'main': {'feels_like': 297.7,\n",
      "          'grnd_level': 1008,\n",
      "          'humidity': 79,\n",
      "          'pressure': 1011,\n",
      "          'sea_level': 1011,\n",
      "          'temp': 297.18,\n",
      "          'temp_max': 297.18,\n",
      "          'temp_min': 297.18},\n",
      " 'name': 'Mahébourg',\n",
      " 'sys': {'country': 'MU',\n",
      "         'id': 2002134,\n",
      "         'sunrise': 1644371838,\n",
      "         'sunset': 1644418177,\n",
      "         'type': 2},\n",
      " 'timezone': 14400,\n",
      " 'visibility': 10000,\n",
      " 'weather': [{'description': 'overcast clouds',\n",
      "              'icon': '04n',\n",
      "              'id': 804,\n",
      "              'main': 'Clouds'}],\n",
      " 'wind': {'deg': 122, 'gust': 4.51, 'speed': 3.73}}\n"
     ]
    }
   ],
   "source": [
    "# Repeat steps above\n",
    "url = \"http://api.openweathermap.org/data/2.5/weather?\"\n",
    "# city = [{\"ostrovnoy\", \"mahebourg\", \"qaanaaq\", \"zhuhai\", \"cape town\",...\"tongren\"}]\n",
    "city = \"mahebourg\"\n",
    "\n",
    "query_url = url + \"appid=\" + api_key + \"&q=\" + city\n",
    "query_url\n",
    "print(query_url)\n",
    "\n",
    "weather_response = requests.get(query_url)\n",
    "weather_json = weather_response.json()\n",
    "\n",
    "pprint(weather_json)"
   ]
  },
  {
   "cell_type": "code",
   "execution_count": 9,
   "metadata": {
    "collapsed": true,
    "jupyter": {
     "outputs_hidden": true
    },
    "tags": []
   },
   "outputs": [
    {
     "name": "stdout",
     "output_type": "stream",
     "text": [
      "http://api.openweathermap.org/data/2.5/weather?appid=0b6dfa3892b2a54cd7cb3b5c3fca45da&q=qaanaaq\n",
      "{'base': 'stations',\n",
      " 'clouds': {'all': 100},\n",
      " 'cod': 200,\n",
      " 'coord': {'lat': 77.484, 'lon': -69.3632},\n",
      " 'dt': 1644364928,\n",
      " 'id': 3831208,\n",
      " 'main': {'feels_like': 240.18,\n",
      "          'grnd_level': 1014,\n",
      "          'humidity': 90,\n",
      "          'pressure': 1018,\n",
      "          'sea_level': 1018,\n",
      "          'temp': 247.18,\n",
      "          'temp_max': 247.18,\n",
      "          'temp_min': 247.18},\n",
      " 'name': 'Qaanaaq',\n",
      " 'sys': {'country': 'GL', 'sunrise': 0, 'sunset': 0},\n",
      " 'timezone': -14400,\n",
      " 'visibility': 8578,\n",
      " 'weather': [{'description': 'overcast clouds',\n",
      "              'icon': '04n',\n",
      "              'id': 804,\n",
      "              'main': 'Clouds'}],\n",
      " 'wind': {'deg': 27, 'gust': 2.53, 'speed': 2.53}}\n"
     ]
    }
   ],
   "source": [
    "# Repeat steps above\n",
    "url = \"http://api.openweathermap.org/data/2.5/weather?\"\n",
    "# city = [{\"ostrovnoy\", \"mahebourg\", \"qaanaaq\", \"zhuhai\", \"cape town\",...\"tongren\"}]\n",
    "city = \"qaanaaq\"\n",
    "\n",
    "query_url = url + \"appid=\" + api_key + \"&q=\" + city\n",
    "query_url\n",
    "print(query_url)\n",
    "\n",
    "weather_response = requests.get(query_url)\n",
    "weather_json = weather_response.json()\n",
    "\n",
    "pprint(weather_json)"
   ]
  },
  {
   "cell_type": "code",
   "execution_count": 11,
   "metadata": {
    "collapsed": true,
    "jupyter": {
     "outputs_hidden": true
    },
    "tags": []
   },
   "outputs": [
    {
     "name": "stdout",
     "output_type": "stream",
     "text": [
      "http://api.openweathermap.org/data/2.5/weather?appid=0b6dfa3892b2a54cd7cb3b5c3fca45da&q=zhuhai\n",
      "{'base': 'stations',\n",
      " 'clouds': {'all': 40},\n",
      " 'cod': 200,\n",
      " 'coord': {'lat': 22.2769, 'lon': 113.5678},\n",
      " 'dt': 1644364964,\n",
      " 'id': 1790437,\n",
      " 'main': {'feels_like': 285.88,\n",
      "          'humidity': 82,\n",
      "          'pressure': 1020,\n",
      "          'temp': 286.36,\n",
      "          'temp_max': 289.81,\n",
      "          'temp_min': 284.74},\n",
      " 'name': 'Zhuhai',\n",
      " 'sys': {'country': 'CN',\n",
      "         'id': 9204,\n",
      "         'sunrise': 1644361265,\n",
      "         'sunset': 1644401933,\n",
      "         'type': 1},\n",
      " 'timezone': 28800,\n",
      " 'visibility': 10000,\n",
      " 'weather': [{'description': 'scattered clouds',\n",
      "              'icon': '03d',\n",
      "              'id': 802,\n",
      "              'main': 'Clouds'}],\n",
      " 'wind': {'deg': 350, 'speed': 7.2}}\n"
     ]
    }
   ],
   "source": [
    "# Repeat steps above\n",
    "url = \"http://api.openweathermap.org/data/2.5/weather?\"\n",
    "# city = [{\"ostrovnoy\", \"mahebourg\", \"qaanaaq\", \"zhuhai\", \"cape town\",...\"tongren\"}]\n",
    "city = \"zhuhai\"\n",
    "\n",
    "query_url = url + \"appid=\" + api_key + \"&q=\" + city\n",
    "query_url\n",
    "print(query_url)\n",
    "\n",
    "weather_response = requests.get(query_url)\n",
    "weather_json = weather_response.json()\n",
    "\n",
    "pprint(weather_json)"
   ]
  },
  {
   "cell_type": "code",
   "execution_count": 12,
   "metadata": {
    "collapsed": true,
    "jupyter": {
     "outputs_hidden": true
    },
    "tags": []
   },
   "outputs": [
    {
     "name": "stdout",
     "output_type": "stream",
     "text": [
      "http://api.openweathermap.org/data/2.5/weather?appid=0b6dfa3892b2a54cd7cb3b5c3fca45da&q=cape town\n",
      "{'base': 'stations',\n",
      " 'clouds': {'all': 20},\n",
      " 'cod': 200,\n",
      " 'coord': {'lat': -33.9258, 'lon': 18.4232},\n",
      " 'dt': 1644364740,\n",
      " 'id': 3369157,\n",
      " 'main': {'feels_like': 290.59,\n",
      "          'humidity': 80,\n",
      "          'pressure': 1013,\n",
      "          'temp': 290.69,\n",
      "          'temp_max': 292.09,\n",
      "          'temp_min': 288.38},\n",
      " 'name': 'Cape Town',\n",
      " 'sys': {'country': 'ZA',\n",
      "         'id': 2033665,\n",
      "         'sunrise': 1644380142,\n",
      "         'sunset': 1644428727,\n",
      "         'type': 2},\n",
      " 'timezone': 7200,\n",
      " 'visibility': 10000,\n",
      " 'weather': [{'description': 'few clouds',\n",
      "              'icon': '02n',\n",
      "              'id': 801,\n",
      "              'main': 'Clouds'}],\n",
      " 'wind': {'deg': 130, 'speed': 2.57}}\n"
     ]
    }
   ],
   "source": [
    "# Repeat steps above\n",
    "url = \"http://api.openweathermap.org/data/2.5/weather?\"\n",
    "# city = [{\"ostrovnoy\", \"mahebourg\", \"qaanaaq\", \"zhuhai\", \"cape town\",...\"tongren\"}]\n",
    "city = \"cape town\"\n",
    "\n",
    "query_url = url + \"appid=\" + api_key + \"&q=\" + city\n",
    "query_url\n",
    "print(query_url)\n",
    "\n",
    "weather_response = requests.get(query_url)\n",
    "weather_json = weather_response.json()\n",
    "\n",
    "pprint(weather_json)"
   ]
  },
  {
   "cell_type": "code",
   "execution_count": 13,
   "metadata": {
    "collapsed": true,
    "jupyter": {
     "outputs_hidden": true
    },
    "tags": []
   },
   "outputs": [
    {
     "name": "stdout",
     "output_type": "stream",
     "text": [
      "http://api.openweathermap.org/data/2.5/weather?appid=0b6dfa3892b2a54cd7cb3b5c3fca45da&q=atuona\n",
      "{'base': 'stations',\n",
      " 'clouds': {'all': 16},\n",
      " 'cod': 200,\n",
      " 'coord': {'lat': -9.8, 'lon': -139.0333},\n",
      " 'dt': 1644365043,\n",
      " 'id': 4020109,\n",
      " 'main': {'feels_like': 299.7,\n",
      "          'grnd_level': 1004,\n",
      "          'humidity': 76,\n",
      "          'pressure': 1012,\n",
      "          'sea_level': 1012,\n",
      "          'temp': 299.07,\n",
      "          'temp_max': 299.07,\n",
      "          'temp_min': 299.07},\n",
      " 'name': 'Atuona',\n",
      " 'sys': {'country': 'PF', 'sunrise': 1644333381, 'sunset': 1644378263},\n",
      " 'timezone': -34200,\n",
      " 'visibility': 10000,\n",
      " 'weather': [{'description': 'few clouds',\n",
      "              'icon': '02d',\n",
      "              'id': 801,\n",
      "              'main': 'Clouds'}],\n",
      " 'wind': {'deg': 90, 'gust': 7.8, 'speed': 7.5}}\n"
     ]
    }
   ],
   "source": [
    "# Repeat steps above\n",
    "url = \"http://api.openweathermap.org/data/2.5/weather?\"\n",
    "# city = [{\"ostrovnoy\", \"mahebourg\", \"qaanaaq\", \"zhuhai\", \"cape town\",...\"tongren\"}]\n",
    "city = \"atuona\"\n",
    "\n",
    "query_url = url + \"appid=\" + api_key + \"&q=\" + city\n",
    "query_url\n",
    "print(query_url)\n",
    "\n",
    "weather_response = requests.get(query_url)\n",
    "weather_json = weather_response.json()\n",
    "\n",
    "pprint(weather_json)"
   ]
  },
  {
   "cell_type": "code",
   "execution_count": 14,
   "metadata": {
    "collapsed": true,
    "jupyter": {
     "outputs_hidden": true
    },
    "tags": []
   },
   "outputs": [
    {
     "name": "stdout",
     "output_type": "stream",
     "text": [
      "http://api.openweathermap.org/data/2.5/weather?appid=0b6dfa3892b2a54cd7cb3b5c3fca45da&q=flinders\n",
      "{'base': 'stations',\n",
      " 'clouds': {'all': 1},\n",
      " 'cod': 200,\n",
      " 'coord': {'lat': -34.5833, 'lon': 150.8552},\n",
      " 'dt': 1644365054,\n",
      " 'id': 6255012,\n",
      " 'main': {'feels_like': 301.95,\n",
      "          'humidity': 61,\n",
      "          'pressure': 1005,\n",
      "          'temp': 300.63,\n",
      "          'temp_max': 302.62,\n",
      "          'temp_min': 297.71},\n",
      " 'name': 'Flinders',\n",
      " 'sys': {'country': 'AU',\n",
      "         'id': 2033627,\n",
      "         'sunrise': 1644348272,\n",
      "         'sunset': 1644397027,\n",
      "         'type': 2},\n",
      " 'timezone': 39600,\n",
      " 'visibility': 10000,\n",
      " 'weather': [{'description': 'clear sky',\n",
      "              'icon': '01d',\n",
      "              'id': 800,\n",
      "              'main': 'Clear'}],\n",
      " 'wind': {'deg': 249, 'gust': 3.58, 'speed': 1.79}}\n"
     ]
    }
   ],
   "source": [
    "# Repeat steps above\n",
    "url = \"http://api.openweathermap.org/data/2.5/weather?\"\n",
    "# city = [{\"ostrovnoy\", \"mahebourg\", \"qaanaaq\", \"zhuhai\", \"cape town\",...\"tongren\"}]\n",
    "city = \"flinders\"\n",
    "\n",
    "query_url = url + \"appid=\" + api_key + \"&q=\" + city\n",
    "query_url\n",
    "print(query_url)\n",
    "\n",
    "weather_response = requests.get(query_url)\n",
    "weather_json = weather_response.json()\n",
    "\n",
    "pprint(weather_json)"
   ]
  },
  {
   "cell_type": "code",
   "execution_count": 15,
   "metadata": {
    "collapsed": true,
    "jupyter": {
     "outputs_hidden": true
    },
    "tags": []
   },
   "outputs": [
    {
     "name": "stdout",
     "output_type": "stream",
     "text": [
      "http://api.openweathermap.org/data/2.5/weather?appid=0b6dfa3892b2a54cd7cb3b5c3fca45da&q=opuwo\n",
      "{'base': 'stations',\n",
      " 'clouds': {'all': 39},\n",
      " 'cod': 200,\n",
      " 'coord': {'lat': -18.0607, 'lon': 13.84},\n",
      " 'dt': 1644365067,\n",
      " 'id': 3354077,\n",
      " 'main': {'feels_like': 292.32,\n",
      "          'grnd_level': 887,\n",
      "          'humidity': 59,\n",
      "          'pressure': 1013,\n",
      "          'sea_level': 1013,\n",
      "          'temp': 292.76,\n",
      "          'temp_max': 292.76,\n",
      "          'temp_min': 292.76},\n",
      " 'name': 'Opuwo',\n",
      " 'sys': {'country': 'NA', 'sunrise': 1644382539, 'sunset': 1644428530},\n",
      " 'timezone': 7200,\n",
      " 'visibility': 10000,\n",
      " 'weather': [{'description': 'scattered clouds',\n",
      "              'icon': '03n',\n",
      "              'id': 802,\n",
      "              'main': 'Clouds'}],\n",
      " 'wind': {'deg': 248, 'gust': 5.29, 'speed': 3.12}}\n"
     ]
    }
   ],
   "source": [
    "# Repeat steps above\n",
    "url = \"http://api.openweathermap.org/data/2.5/weather?\"\n",
    "# city = [{\"ostrovnoy\", \"mahebourg\", \"qaanaaq\", \"zhuhai\", \"cape town\",...\"tongren\"}]\n",
    "city = \"opuwo\"\n",
    "\n",
    "query_url = url + \"appid=\" + api_key + \"&q=\" + city\n",
    "query_url\n",
    "print(query_url)\n",
    "\n",
    "weather_response = requests.get(query_url)\n",
    "weather_json = weather_response.json()\n",
    "\n",
    "pprint(weather_json)"
   ]
  },
  {
   "cell_type": "code",
   "execution_count": 16,
   "metadata": {
    "collapsed": true,
    "jupyter": {
     "outputs_hidden": true
    },
    "tags": []
   },
   "outputs": [
    {
     "name": "stdout",
     "output_type": "stream",
     "text": [
      "http://api.openweathermap.org/data/2.5/weather?appid=0b6dfa3892b2a54cd7cb3b5c3fca45da&q=tiksi\n",
      "{'base': 'stations',\n",
      " 'clouds': {'all': 83},\n",
      " 'cod': 200,\n",
      " 'coord': {'lat': 71.6872, 'lon': 128.8694},\n",
      " 'dt': 1644365078,\n",
      " 'id': 2015306,\n",
      " 'main': {'feels_like': 238.2,\n",
      "          'grnd_level': 1023,\n",
      "          'humidity': 98,\n",
      "          'pressure': 1029,\n",
      "          'sea_level': 1029,\n",
      "          'temp': 245.2,\n",
      "          'temp_max': 245.2,\n",
      "          'temp_min': 245.2},\n",
      " 'name': 'Tiksi',\n",
      " 'sys': {'country': 'RU', 'sunrise': 1644368003, 'sunset': 1644387850},\n",
      " 'timezone': 32400,\n",
      " 'visibility': 10000,\n",
      " 'weather': [{'description': 'broken clouds',\n",
      "              'icon': '04n',\n",
      "              'id': 803,\n",
      "              'main': 'Clouds'}],\n",
      " 'wind': {'deg': 234, 'gust': 5.59, 'speed': 4.15}}\n"
     ]
    }
   ],
   "source": [
    "# Repeat steps above\n",
    "url = \"http://api.openweathermap.org/data/2.5/weather?\"\n",
    "# city = [{\"ostrovnoy\", \"mahebourg\", \"qaanaaq\", \"zhuhai\", \"cape town\",...\"tongren\"}]\n",
    "city = \"tiksi\"\n",
    "\n",
    "query_url = url + \"appid=\" + api_key + \"&q=\" + city\n",
    "query_url\n",
    "print(query_url)\n",
    "\n",
    "weather_response = requests.get(query_url)\n",
    "weather_json = weather_response.json()\n",
    "\n",
    "pprint(weather_json)"
   ]
  },
  {
   "cell_type": "code",
   "execution_count": 17,
   "metadata": {
    "collapsed": true,
    "jupyter": {
     "outputs_hidden": true
    },
    "tags": []
   },
   "outputs": [
    {
     "name": "stdout",
     "output_type": "stream",
     "text": [
      "http://api.openweathermap.org/data/2.5/weather?appid=0b6dfa3892b2a54cd7cb3b5c3fca45da&q=pushkinskiye gory\n",
      "{'base': 'stations',\n",
      " 'clouds': {'all': 100},\n",
      " 'cod': 200,\n",
      " 'coord': {'lat': 57.0209, 'lon': 28.9103},\n",
      " 'dt': 1644365090,\n",
      " 'id': 503965,\n",
      " 'main': {'feels_like': 268.33,\n",
      "          'grnd_level': 985,\n",
      "          'humidity': 98,\n",
      "          'pressure': 1002,\n",
      "          'sea_level': 1002,\n",
      "          'temp': 272.3,\n",
      "          'temp_max': 272.3,\n",
      "          'temp_min': 272.3},\n",
      " 'name': 'Pushkinskiye Gory',\n",
      " 'snow': {'1h': 0.26},\n",
      " 'sys': {'country': 'RU', 'sunrise': 1644385635, 'sunset': 1644418199},\n",
      " 'timezone': 10800,\n",
      " 'visibility': 125,\n",
      " 'weather': [{'description': 'light snow',\n",
      "              'icon': '13n',\n",
      "              'id': 600,\n",
      "              'main': 'Snow'}],\n",
      " 'wind': {'deg': 228, 'gust': 9.74, 'speed': 3.34}}\n"
     ]
    }
   ],
   "source": [
    "# Repeat steps above\n",
    "url = \"http://api.openweathermap.org/data/2.5/weather?\"\n",
    "# city = [{\"ostrovnoy\", \"mahebourg\", \"qaanaaq\", \"zhuhai\", \"cape town\",...\"tongren\"}]\n",
    "city = \"pushkinskiye gory\"\n",
    "\n",
    "query_url = url + \"appid=\" + api_key + \"&q=\" + city\n",
    "query_url\n",
    "print(query_url)\n",
    "\n",
    "weather_response = requests.get(query_url)\n",
    "weather_json = weather_response.json()\n",
    "\n",
    "pprint(weather_json)"
   ]
  },
  {
   "cell_type": "code",
   "execution_count": 19,
   "metadata": {
    "collapsed": true,
    "jupyter": {
     "outputs_hidden": true
    },
    "tags": []
   },
   "outputs": [
    {
     "name": "stdout",
     "output_type": "stream",
     "text": [
      "http://api.openweathermap.org/data/2.5/weather?appid=0b6dfa3892b2a54cd7cb3b5c3fca45da&q=aykhal\n",
      "{'base': 'stations',\n",
      " 'clouds': {'all': 84},\n",
      " 'cod': 200,\n",
      " 'coord': {'lat': 66, 'lon': 111.5},\n",
      " 'dt': 1644365119,\n",
      " 'id': 2027296,\n",
      " 'main': {'feels_like': 238.6,\n",
      "          'grnd_level': 976,\n",
      "          'humidity': 99,\n",
      "          'pressure': 1040,\n",
      "          'sea_level': 1040,\n",
      "          'temp': 245.6,\n",
      "          'temp_max': 245.6,\n",
      "          'temp_min': 245.6},\n",
      " 'name': 'Aykhal',\n",
      " 'sys': {'country': 'RU',\n",
      "         'id': 49565,\n",
      "         'sunrise': 1644368602,\n",
      "         'sunset': 1644395588,\n",
      "         'type': 2},\n",
      " 'timezone': 32400,\n",
      " 'visibility': 10000,\n",
      " 'weather': [{'description': 'broken clouds',\n",
      "              'icon': '04n',\n",
      "              'id': 803,\n",
      "              'main': 'Clouds'}],\n",
      " 'wind': {'deg': 301, 'gust': 1.81, 'speed': 2.04}}\n"
     ]
    }
   ],
   "source": [
    "# Repeat steps above\n",
    "url = \"http://api.openweathermap.org/data/2.5/weather?\"\n",
    "# city = [{\"ostrovnoy\", \"mahebourg\", \"qaanaaq\", \"zhuhai\", \"cape town\",...\"tongren\"}]\n",
    "city = \"aykhal\"\n",
    "\n",
    "query_url = url + \"appid=\" + api_key + \"&q=\" + city\n",
    "query_url\n",
    "print(query_url)\n",
    "\n",
    "weather_response = requests.get(query_url)\n",
    "weather_json = weather_response.json()\n",
    "\n",
    "pprint(weather_json)"
   ]
  },
  {
   "cell_type": "code",
   "execution_count": 20,
   "metadata": {
    "collapsed": true,
    "jupyter": {
     "outputs_hidden": true
    },
    "tags": []
   },
   "outputs": [
    {
     "name": "stdout",
     "output_type": "stream",
     "text": [
      "http://api.openweathermap.org/data/2.5/weather?appid=0b6dfa3892b2a54cd7cb3b5c3fca45da&q=castro\n",
      "{'base': 'stations',\n",
      " 'clouds': {'all': 43},\n",
      " 'cod': 200,\n",
      " 'coord': {'lat': -24.7911, 'lon': -50.0119},\n",
      " 'dt': 1644365128,\n",
      " 'id': 3466704,\n",
      " 'main': {'feels_like': 289.81,\n",
      "          'grnd_level': 902,\n",
      "          'humidity': 92,\n",
      "          'pressure': 1014,\n",
      "          'sea_level': 1014,\n",
      "          'temp': 289.7,\n",
      "          'temp_max': 289.7,\n",
      "          'temp_min': 289.7},\n",
      " 'name': 'Castro',\n",
      " 'sys': {'country': 'BR', 'sunrise': 1644310926, 'sunset': 1644357987},\n",
      " 'timezone': -10800,\n",
      " 'visibility': 10000,\n",
      " 'weather': [{'description': 'scattered clouds',\n",
      "              'icon': '03n',\n",
      "              'id': 802,\n",
      "              'main': 'Clouds'}],\n",
      " 'wind': {'deg': 61, 'gust': 9.05, 'speed': 2.88}}\n"
     ]
    }
   ],
   "source": [
    "# Repeat steps above\n",
    "url = \"http://api.openweathermap.org/data/2.5/weather?\"\n",
    "# city = [{\"ostrovnoy\", \"mahebourg\", \"qaanaaq\", \"zhuhai\", \"cape town\",...\"tongren\"}]\n",
    "city = \"castro\"\n",
    "\n",
    "query_url = url + \"appid=\" + api_key + \"&q=\" + city\n",
    "query_url\n",
    "print(query_url)\n",
    "\n",
    "weather_response = requests.get(query_url)\n",
    "weather_json = weather_response.json()\n",
    "\n",
    "pprint(weather_json)"
   ]
  },
  {
   "cell_type": "markdown",
   "metadata": {},
   "source": [
    "## Generate Cities List"
   ]
  },
  {
   "cell_type": "code",
   "execution_count": 50,
   "metadata": {
    "tags": []
   },
   "outputs": [
    {
     "data": {
      "text/plain": [
       "585"
      ]
     },
     "execution_count": 50,
     "metadata": {},
     "output_type": "execute_result"
    }
   ],
   "source": [
    "# List for holding lat_lngs and cities\n",
    "lat_lngs = []\n",
    "cities = []\n",
    "\n",
    "# Create a set of random lat and lng combinations\n",
    "lats = np.random.uniform(lat_range[0], lat_range[1], size=1500)\n",
    "lngs = np.random.uniform(lng_range[0], lng_range[1], size=1500)\n",
    "lat_lngs = zip(lats, lngs)\n",
    "\n",
    "# Identify nearest city for each lat, lng combination\n",
    "for lat_lng in lat_lngs:\n",
    "    city = citipy.nearest_city(lat_lng[0], lat_lng[1]).city_name\n",
    "    \n",
    "    # If the city is unique, then add it to our cities list\n",
    "    if city not in cities:\n",
    "        cities.append(city)\n",
    "\n",
    "# Print the city count to confirm sufficient count\n",
    "len(cities)\n",
    "\n",
    "# pprint(cities)"
   ]
  },
  {
   "cell_type": "code",
   "execution_count": 56,
   "metadata": {
    "tags": []
   },
   "outputs": [
    {
     "name": "stdout",
     "output_type": "stream",
     "text": [
      "Processing Record | ca mau\n",
      "{'base': 'stations',\n",
      " 'clouds': {'all': 100},\n",
      " 'cod': 200,\n",
      " 'coord': {'lat': 9.1769, 'lon': 105.15},\n",
      " 'dt': 1644376249,\n",
      " 'id': 1586443,\n",
      " 'main': {'feels_like': 305.64,\n",
      "          'grnd_level': 1012,\n",
      "          'humidity': 52,\n",
      "          'pressure': 1012,\n",
      "          'sea_level': 1012,\n",
      "          'temp': 303.84,\n",
      "          'temp_max': 303.84,\n",
      "          'temp_min': 303.84},\n",
      " 'name': 'Ca Mau',\n",
      " 'sys': {'country': 'VN', 'sunrise': 1644362397, 'sunset': 1644404842},\n",
      " 'timezone': 25200,\n",
      " 'visibility': 10000,\n",
      " 'weather': [{'description': 'overcast clouds',\n",
      "              'icon': '04d',\n",
      "              'id': 804,\n",
      "              'main': 'Clouds'}],\n",
      " 'wind': {'deg': 88, 'gust': 10.02, 'speed': 7.11}}\n",
      "Processing Record | los teques\n",
      "{'base': 'stations',\n",
      " 'clouds': {'all': 97},\n",
      " 'cod': 200,\n",
      " 'coord': {'lat': 10.3445, 'lon': -67.0433},\n",
      " 'dt': 1644376249,\n",
      " 'id': 3633622,\n",
      " 'main': {'feels_like': 293,\n",
      "          'grnd_level': 884,\n",
      "          'humidity': 95,\n",
      "          'pressure': 1015,\n",
      "          'sea_level': 1015,\n",
      "          'temp': 292.53,\n",
      "          'temp_max': 292.53,\n",
      "          'temp_min': 292.53},\n",
      " 'name': 'Los Teques',\n",
      " 'sys': {'country': 'VE',\n",
      "         'id': 2004667,\n",
      "         'sunrise': 1644317405,\n",
      "         'sunset': 1644359684,\n",
      "         'type': 2},\n",
      " 'timezone': -14400,\n",
      " 'visibility': 10000,\n",
      " 'weather': [{'description': 'overcast clouds',\n",
      "              'icon': '04n',\n",
      "              'id': 804,\n",
      "              'main': 'Clouds'}],\n",
      " 'wind': {'deg': 95, 'gust': 2.76, 'speed': 1.33}}\n",
      "Processing Record | busselton\n",
      "{'base': 'stations',\n",
      " 'clouds': {'all': 1},\n",
      " 'cod': 200,\n",
      " 'coord': {'lat': -33.65, 'lon': 115.3333},\n",
      " 'dt': 1644376245,\n",
      " 'id': 2075265,\n",
      " 'main': {'feels_like': 295.95,\n",
      "          'grnd_level': 1014,\n",
      "          'humidity': 44,\n",
      "          'pressure': 1015,\n",
      "          'sea_level': 1015,\n",
      "          'temp': 296.42,\n",
      "          'temp_max': 296.42,\n",
      "          'temp_min': 296.42},\n",
      " 'name': 'Busselton',\n",
      " 'sys': {'country': 'AU', 'sunrise': 1644356894, 'sunset': 1644405456},\n",
      " 'timezone': 28800,\n",
      " 'visibility': 10000,\n",
      " 'weather': [{'description': 'clear sky',\n",
      "              'icon': '01d',\n",
      "              'id': 800,\n",
      "              'main': 'Clear'}],\n",
      " 'wind': {'deg': 203, 'gust': 2.48, 'speed': 1.2}}\n",
      "Processing Record | kalabo\n",
      "{'base': 'stations',\n",
      " 'clouds': {'all': 100},\n",
      " 'cod': 200,\n",
      " 'coord': {'lat': -14.97, 'lon': 22.6814},\n",
      " 'dt': 1644376250,\n",
      " 'id': 915471,\n",
      " 'main': {'feels_like': 292.91,\n",
      "          'grnd_level': 898,\n",
      "          'humidity': 96,\n",
      "          'pressure': 1010,\n",
      "          'sea_level': 1010,\n",
      "          'temp': 292.42,\n",
      "          'temp_max': 292.42,\n",
      "          'temp_min': 292.42},\n",
      " 'name': 'Kalabo',\n",
      " 'sys': {'country': 'ZM', 'sunrise': 1644380632, 'sunset': 1644426192},\n",
      " 'timezone': 7200,\n",
      " 'visibility': 10000,\n",
      " 'weather': [{'description': 'overcast clouds',\n",
      "              'icon': '04n',\n",
      "              'id': 804,\n",
      "              'main': 'Clouds'}],\n",
      " 'wind': {'deg': 7, 'gust': 4.44, 'speed': 1.84}}\n",
      "Processing Record | tsihombe\n",
      "{'cod': '404', 'message': 'city not found'}\n",
      "Processing Record | thompson\n",
      "{'base': 'stations',\n",
      " 'clouds': {'all': 100},\n",
      " 'cod': 200,\n",
      " 'coord': {'lat': 55.7435, 'lon': -97.8558},\n",
      " 'dt': 1644376244,\n",
      " 'id': 6165406,\n",
      " 'main': {'feels_like': 252.62,\n",
      "          'grnd_level': 985,\n",
      "          'humidity': 93,\n",
      "          'pressure': 1012,\n",
      "          'sea_level': 1012,\n",
      "          'temp': 259.62,\n",
      "          'temp_max': 259.62,\n",
      "          'temp_min': 259.62},\n",
      " 'name': 'Thompson',\n",
      " 'sys': {'country': 'CA', 'sunrise': 1644329471, 'sunset': 1644362407},\n",
      " 'timezone': -21600,\n",
      " 'visibility': 556,\n",
      " 'weather': [{'description': 'overcast clouds',\n",
      "              'icon': '04n',\n",
      "              'id': 804,\n",
      "              'main': 'Clouds'}],\n",
      " 'wind': {'deg': 2, 'gust': 9.19, 'speed': 4.21}}\n",
      "Processing Record | sinnamary\n",
      "{'base': 'stations',\n",
      " 'clouds': {'all': 56},\n",
      " 'cod': 200,\n",
      " 'coord': {'lat': 5.3833, 'lon': -52.95},\n",
      " 'dt': 1644376244,\n",
      " 'id': 3380290,\n",
      " 'main': {'feels_like': 298.9,\n",
      "          'grnd_level': 1011,\n",
      "          'humidity': 85,\n",
      "          'pressure': 1012,\n",
      "          'sea_level': 1012,\n",
      "          'temp': 298.13,\n",
      "          'temp_max': 298.13,\n",
      "          'temp_min': 298.13},\n",
      " 'name': 'Sinnamary',\n",
      " 'sys': {'country': 'GF', 'sunrise': 1644400096, 'sunset': 1644443033},\n",
      " 'timezone': -10800,\n",
      " 'visibility': 10000,\n",
      " 'weather': [{'description': 'broken clouds',\n",
      "              'icon': '04n',\n",
      "              'id': 803,\n",
      "              'main': 'Clouds'}],\n",
      " 'wind': {'deg': 31, 'gust': 2.92, 'speed': 2.37}}\n",
      "Processing Record | saint-philippe\n",
      "{'base': 'stations',\n",
      " 'clouds': {'all': 93},\n",
      " 'cod': 200,\n",
      " 'coord': {'lat': -21.3585, 'lon': 55.7679},\n",
      " 'dt': 1644376250,\n",
      " 'id': 935215,\n",
      " 'main': {'feels_like': 297.1,\n",
      "          'grnd_level': 1007,\n",
      "          'humidity': 85,\n",
      "          'pressure': 1013,\n",
      "          'sea_level': 1013,\n",
      "          'temp': 296.49,\n",
      "          'temp_max': 296.92,\n",
      "          'temp_min': 295.43},\n",
      " 'name': 'Saint-Philippe',\n",
      " 'sys': {'country': 'RE',\n",
      "         'id': 2127,\n",
      "         'sunrise': 1644372232,\n",
      "         'sunset': 1644418711,\n",
      "         'type': 1},\n",
      " 'timezone': 14400,\n",
      " 'visibility': 10000,\n",
      " 'weather': [{'description': 'overcast clouds',\n",
      "              'icon': '04d',\n",
      "              'id': 804,\n",
      "              'main': 'Clouds'}],\n",
      " 'wind': {'deg': 78, 'gust': 4.2, 'speed': 4.25}}\n",
      "Processing Record | port alfred\n",
      "{'base': 'stations',\n",
      " 'clouds': {'all': 46},\n",
      " 'cod': 200,\n",
      " 'coord': {'lat': -33.5906, 'lon': 26.891},\n",
      " 'dt': 1644376251,\n",
      " 'id': 964432,\n",
      " 'main': {'feels_like': 294.16,\n",
      "          'grnd_level': 1007,\n",
      "          'humidity': 84,\n",
      "          'pressure': 1009,\n",
      "          'sea_level': 1009,\n",
      "          'temp': 293.84,\n",
      "          'temp_max': 293.84,\n",
      "          'temp_min': 293.84},\n",
      " 'name': 'Port Alfred',\n",
      " 'sys': {'country': 'ZA', 'sunrise': 1644378140, 'sunset': 1644426664},\n",
      " 'timezone': 7200,\n",
      " 'visibility': 10000,\n",
      " 'weather': [{'description': 'scattered clouds',\n",
      "              'icon': '03n',\n",
      "              'id': 802,\n",
      "              'main': 'Clouds'}],\n",
      " 'wind': {'deg': 257, 'gust': 8.65, 'speed': 5.61}}\n",
      "Processing Record | mataura\n",
      "{'base': 'stations',\n",
      " 'clouds': {'all': 100},\n",
      " 'cod': 200,\n",
      " 'coord': {'lat': -46.1927, 'lon': 168.8643},\n",
      " 'dt': 1644376251,\n",
      " 'id': 6201424,\n",
      " 'main': {'feels_like': 290.83,\n",
      "          'grnd_level': 1007,\n",
      "          'humidity': 68,\n",
      "          'pressure': 1013,\n",
      "          'sea_level': 1013,\n",
      "          'temp': 291.19,\n",
      "          'temp_max': 291.19,\n",
      "          'temp_min': 291.19},\n",
      " 'name': 'Mataura',\n",
      " 'rain': {'1h': 1.23},\n",
      " 'sys': {'country': 'NZ',\n",
      "         'id': 2008959,\n",
      "         'sunrise': 1644342569,\n",
      "         'sunset': 1644394086,\n",
      "         'type': 2},\n",
      " 'timezone': 46800,\n",
      " 'visibility': 10000,\n",
      " 'weather': [{'description': 'moderate rain',\n",
      "              'icon': '10d',\n",
      "              'id': 501,\n",
      "              'main': 'Rain'}],\n",
      " 'wind': {'deg': 71, 'gust': 5.81, 'speed': 2.53}}\n",
      "Processing Record | sao filipe\n",
      "{'base': 'stations',\n",
      " 'clouds': {'all': 1},\n",
      " 'cod': 200,\n",
      " 'coord': {'lat': 14.8961, 'lon': -24.4956},\n",
      " 'dt': 1644376251,\n",
      " 'id': 3374210,\n",
      " 'main': {'feels_like': 295.7,\n",
      "          'grnd_level': 1001,\n",
      "          'humidity': 71,\n",
      "          'pressure': 1013,\n",
      "          'sea_level': 1013,\n",
      "          'temp': 295.55,\n",
      "          'temp_max': 295.55,\n",
      "          'temp_min': 295.55},\n",
      " 'name': 'São Filipe',\n",
      " 'sys': {'country': 'CV', 'sunrise': 1644393879, 'sunset': 1644435590},\n",
      " 'timezone': -3600,\n",
      " 'visibility': 10000,\n",
      " 'weather': [{'description': 'clear sky',\n",
      "              'icon': '01n',\n",
      "              'id': 800,\n",
      "              'main': 'Clear'}],\n",
      " 'wind': {'deg': 10, 'gust': 2.4, 'speed': 1.69}}\n",
      "Processing Record | ushuaia\n",
      "{'base': 'stations',\n",
      " 'clouds': {'all': 20},\n",
      " 'cod': 200,\n",
      " 'coord': {'lat': -54.8, 'lon': -68.3},\n",
      " 'dt': 1644376017,\n",
      " 'id': 3833367,\n",
      " 'main': {'feels_like': 279.74,\n",
      "          'humidity': 81,\n",
      "          'pressure': 1002,\n",
      "          'temp': 280.96,\n",
      "          'temp_max': 280.96,\n",
      "          'temp_min': 280.96},\n",
      " 'name': 'Ushuaia',\n",
      " 'sys': {'country': 'AR',\n",
      "         'id': 8303,\n",
      "         'sunrise': 1644398051,\n",
      "         'sunset': 1644452446,\n",
      "         'type': 1},\n",
      " 'timezone': -10800,\n",
      " 'visibility': 10000,\n",
      " 'weather': [{'description': 'few clouds',\n",
      "              'icon': '02n',\n",
      "              'id': 801,\n",
      "              'main': 'Clouds'}],\n",
      " 'wind': {'deg': 50, 'speed': 2.06}}\n",
      "Processing Record | illoqqortoormiut\n",
      "{'cod': '404', 'message': 'city not found'}\n",
      "Processing Record | rikitea\n",
      "{'base': 'stations',\n",
      " 'clouds': {'all': 89},\n",
      " 'cod': 200,\n",
      " 'coord': {'lat': -23.1203, 'lon': -134.9692},\n",
      " 'dt': 1644376148,\n",
      " 'id': 4030556,\n",
      " 'main': {'feels_like': 299.29,\n",
      "          'grnd_level': 1016,\n",
      "          'humidity': 69,\n",
      "          'pressure': 1019,\n",
      "          'sea_level': 1019,\n",
      "          'temp': 299.29,\n",
      "          'temp_max': 299.29,\n",
      "          'temp_min': 299.29},\n",
      " 'name': 'Rikitea',\n",
      " 'sys': {'country': 'PF', 'sunrise': 1644331457, 'sunset': 1644378237},\n",
      " 'timezone': -32400,\n",
      " 'visibility': 10000,\n",
      " 'weather': [{'description': 'overcast clouds',\n",
      "              'icon': '04d',\n",
      "              'id': 804,\n",
      "              'main': 'Clouds'}],\n",
      " 'wind': {'deg': 94, 'gust': 6.96, 'speed': 6.55}}\n",
      "Processing Record | dikson\n",
      "{'base': 'stations',\n",
      " 'clouds': {'all': 100},\n",
      " 'cod': 200,\n",
      " 'coord': {'lat': 73.5069, 'lon': 80.5464},\n",
      " 'dt': 1644376227,\n",
      " 'id': 1507390,\n",
      " 'main': {'feels_like': 249.54,\n",
      "          'grnd_level': 1013,\n",
      "          'humidity': 93,\n",
      "          'pressure': 1019,\n",
      "          'sea_level': 1019,\n",
      "          'temp': 256.54,\n",
      "          'temp_max': 256.54,\n",
      "          'temp_min': 256.54},\n",
      " 'name': 'Dikson',\n",
      " 'sys': {'country': 'RU', 'sunrise': 1644381562, 'sunset': 1644397487},\n",
      " 'timezone': 25200,\n",
      " 'visibility': 9548,\n",
      " 'weather': [{'description': 'overcast clouds',\n",
      "              'icon': '04n',\n",
      "              'id': 804,\n",
      "              'main': 'Clouds'}],\n",
      " 'wind': {'deg': 196, 'gust': 15.19, 'speed': 10.2}}\n",
      "Processing Record | hermanus\n",
      "{'base': 'stations',\n",
      " 'clouds': {'all': 2},\n",
      " 'cod': 200,\n",
      " 'coord': {'lat': -34.4187, 'lon': 19.2345},\n",
      " 'dt': 1644376252,\n",
      " 'id': 3366880,\n",
      " 'main': {'feels_like': 289,\n",
      "          'grnd_level': 1007,\n",
      "          'humidity': 84,\n",
      "          'pressure': 1011,\n",
      "          'sea_level': 1011,\n",
      "          'temp': 289.15,\n",
      "          'temp_max': 290.87,\n",
      "          'temp_min': 289.15},\n",
      " 'name': 'Hermanus',\n",
      " 'sys': {'country': 'ZA',\n",
      "         'id': 2006131,\n",
      "         'sunrise': 1644379899,\n",
      "         'sunset': 1644428580,\n",
      "         'type': 2},\n",
      " 'timezone': 7200,\n",
      " 'visibility': 10000,\n",
      " 'weather': [{'description': 'clear sky',\n",
      "              'icon': '01n',\n",
      "              'id': 800,\n",
      "              'main': 'Clear'}],\n",
      " 'wind': {'deg': 289, 'gust': 5.45, 'speed': 3.63}}\n",
      "Processing Record | clyde river\n",
      "{'base': 'stations',\n",
      " 'clouds': {'all': 100},\n",
      " 'cod': 200,\n",
      " 'coord': {'lat': 70.4692, 'lon': -68.5914},\n",
      " 'dt': 1644376252,\n",
      " 'id': 5924351,\n",
      " 'main': {'feels_like': 239.28,\n",
      "          'humidity': 68,\n",
      "          'pressure': 1009,\n",
      "          'temp': 239.28,\n",
      "          'temp_max': 239.28,\n",
      "          'temp_min': 239.28},\n",
      " 'name': 'Clyde River',\n",
      " 'sys': {'country': 'CA',\n",
      "         'id': 776,\n",
      "         'sunrise': 1644328126,\n",
      "         'sunset': 1644349705,\n",
      "         'type': 1},\n",
      " 'timezone': -18000,\n",
      " 'visibility': 9656,\n",
      " 'weather': [{'description': 'light snow',\n",
      "              'icon': '13n',\n",
      "              'id': 600,\n",
      "              'main': 'Snow'}],\n",
      " 'wind': {'deg': 280, 'speed': 1.03}}\n"
     ]
    },
    {
     "ename": "KeyboardInterrupt",
     "evalue": "",
     "output_type": "error",
     "traceback": [
      "\u001b[0;31m---------------------------------------------------------------------------\u001b[0m",
      "\u001b[0;31mKeyboardInterrupt\u001b[0m                         Traceback (most recent call last)",
      "\u001b[0;32m/var/folders/cr/wm661_8s4rnddy4mgjplwkl00000gn/T/ipykernel_6697/1607864685.py\u001b[0m in \u001b[0;36m<module>\u001b[0;34m\u001b[0m\n\u001b[1;32m      3\u001b[0m \u001b[0;32mfor\u001b[0m \u001b[0mcity\u001b[0m \u001b[0;32min\u001b[0m \u001b[0mcities\u001b[0m\u001b[0;34m:\u001b[0m\u001b[0;34m\u001b[0m\u001b[0;34m\u001b[0m\u001b[0m\n\u001b[1;32m      4\u001b[0m     \u001b[0mcity_url\u001b[0m \u001b[0;34m=\u001b[0m \u001b[0murl\u001b[0m \u001b[0;34m+\u001b[0m \u001b[0;34m\"&q=\"\u001b[0m \u001b[0;34m+\u001b[0m \u001b[0mcity\u001b[0m\u001b[0;34m\u001b[0m\u001b[0;34m\u001b[0m\u001b[0m\n\u001b[0;32m----> 5\u001b[0;31m     \u001b[0mtest\u001b[0m \u001b[0;34m=\u001b[0m \u001b[0mrequests\u001b[0m\u001b[0;34m.\u001b[0m\u001b[0mget\u001b[0m\u001b[0;34m(\u001b[0m\u001b[0mcity_url\u001b[0m\u001b[0;34m)\u001b[0m\u001b[0;34m.\u001b[0m\u001b[0mjson\u001b[0m\u001b[0;34m(\u001b[0m\u001b[0;34m)\u001b[0m\u001b[0;34m\u001b[0m\u001b[0;34m\u001b[0m\u001b[0m\n\u001b[0m\u001b[1;32m      6\u001b[0m \u001b[0;34m\u001b[0m\u001b[0m\n\u001b[1;32m      7\u001b[0m     \u001b[0mprint\u001b[0m\u001b[0;34m(\u001b[0m\u001b[0;34mf\"Processing Record | {city}\"\u001b[0m\u001b[0;34m)\u001b[0m\u001b[0;34m\u001b[0m\u001b[0;34m\u001b[0m\u001b[0m\n",
      "\u001b[0;32m~/opt/anaconda3/lib/python3.9/site-packages/requests/api.py\u001b[0m in \u001b[0;36mget\u001b[0;34m(url, params, **kwargs)\u001b[0m\n\u001b[1;32m     73\u001b[0m     \"\"\"\n\u001b[1;32m     74\u001b[0m \u001b[0;34m\u001b[0m\u001b[0m\n\u001b[0;32m---> 75\u001b[0;31m     \u001b[0;32mreturn\u001b[0m \u001b[0mrequest\u001b[0m\u001b[0;34m(\u001b[0m\u001b[0;34m'get'\u001b[0m\u001b[0;34m,\u001b[0m \u001b[0murl\u001b[0m\u001b[0;34m,\u001b[0m \u001b[0mparams\u001b[0m\u001b[0;34m=\u001b[0m\u001b[0mparams\u001b[0m\u001b[0;34m,\u001b[0m \u001b[0;34m**\u001b[0m\u001b[0mkwargs\u001b[0m\u001b[0;34m)\u001b[0m\u001b[0;34m\u001b[0m\u001b[0;34m\u001b[0m\u001b[0m\n\u001b[0m\u001b[1;32m     76\u001b[0m \u001b[0;34m\u001b[0m\u001b[0m\n\u001b[1;32m     77\u001b[0m \u001b[0;34m\u001b[0m\u001b[0m\n",
      "\u001b[0;32m~/opt/anaconda3/lib/python3.9/site-packages/requests/api.py\u001b[0m in \u001b[0;36mrequest\u001b[0;34m(method, url, **kwargs)\u001b[0m\n\u001b[1;32m     59\u001b[0m     \u001b[0;31m# cases, and look like a memory leak in others.\u001b[0m\u001b[0;34m\u001b[0m\u001b[0;34m\u001b[0m\u001b[0m\n\u001b[1;32m     60\u001b[0m     \u001b[0;32mwith\u001b[0m \u001b[0msessions\u001b[0m\u001b[0;34m.\u001b[0m\u001b[0mSession\u001b[0m\u001b[0;34m(\u001b[0m\u001b[0;34m)\u001b[0m \u001b[0;32mas\u001b[0m \u001b[0msession\u001b[0m\u001b[0;34m:\u001b[0m\u001b[0;34m\u001b[0m\u001b[0;34m\u001b[0m\u001b[0m\n\u001b[0;32m---> 61\u001b[0;31m         \u001b[0;32mreturn\u001b[0m \u001b[0msession\u001b[0m\u001b[0;34m.\u001b[0m\u001b[0mrequest\u001b[0m\u001b[0;34m(\u001b[0m\u001b[0mmethod\u001b[0m\u001b[0;34m=\u001b[0m\u001b[0mmethod\u001b[0m\u001b[0;34m,\u001b[0m \u001b[0murl\u001b[0m\u001b[0;34m=\u001b[0m\u001b[0murl\u001b[0m\u001b[0;34m,\u001b[0m \u001b[0;34m**\u001b[0m\u001b[0mkwargs\u001b[0m\u001b[0;34m)\u001b[0m\u001b[0;34m\u001b[0m\u001b[0;34m\u001b[0m\u001b[0m\n\u001b[0m\u001b[1;32m     62\u001b[0m \u001b[0;34m\u001b[0m\u001b[0m\n\u001b[1;32m     63\u001b[0m \u001b[0;34m\u001b[0m\u001b[0m\n",
      "\u001b[0;32m~/opt/anaconda3/lib/python3.9/site-packages/requests/sessions.py\u001b[0m in \u001b[0;36mrequest\u001b[0;34m(self, method, url, params, data, headers, cookies, files, auth, timeout, allow_redirects, proxies, hooks, stream, verify, cert, json)\u001b[0m\n\u001b[1;32m    540\u001b[0m         }\n\u001b[1;32m    541\u001b[0m         \u001b[0msend_kwargs\u001b[0m\u001b[0;34m.\u001b[0m\u001b[0mupdate\u001b[0m\u001b[0;34m(\u001b[0m\u001b[0msettings\u001b[0m\u001b[0;34m)\u001b[0m\u001b[0;34m\u001b[0m\u001b[0;34m\u001b[0m\u001b[0m\n\u001b[0;32m--> 542\u001b[0;31m         \u001b[0mresp\u001b[0m \u001b[0;34m=\u001b[0m \u001b[0mself\u001b[0m\u001b[0;34m.\u001b[0m\u001b[0msend\u001b[0m\u001b[0;34m(\u001b[0m\u001b[0mprep\u001b[0m\u001b[0;34m,\u001b[0m \u001b[0;34m**\u001b[0m\u001b[0msend_kwargs\u001b[0m\u001b[0;34m)\u001b[0m\u001b[0;34m\u001b[0m\u001b[0;34m\u001b[0m\u001b[0m\n\u001b[0m\u001b[1;32m    543\u001b[0m \u001b[0;34m\u001b[0m\u001b[0m\n\u001b[1;32m    544\u001b[0m         \u001b[0;32mreturn\u001b[0m \u001b[0mresp\u001b[0m\u001b[0;34m\u001b[0m\u001b[0;34m\u001b[0m\u001b[0m\n",
      "\u001b[0;32m~/opt/anaconda3/lib/python3.9/site-packages/requests/sessions.py\u001b[0m in \u001b[0;36msend\u001b[0;34m(self, request, **kwargs)\u001b[0m\n\u001b[1;32m    653\u001b[0m \u001b[0;34m\u001b[0m\u001b[0m\n\u001b[1;32m    654\u001b[0m         \u001b[0;31m# Send the request\u001b[0m\u001b[0;34m\u001b[0m\u001b[0;34m\u001b[0m\u001b[0m\n\u001b[0;32m--> 655\u001b[0;31m         \u001b[0mr\u001b[0m \u001b[0;34m=\u001b[0m \u001b[0madapter\u001b[0m\u001b[0;34m.\u001b[0m\u001b[0msend\u001b[0m\u001b[0;34m(\u001b[0m\u001b[0mrequest\u001b[0m\u001b[0;34m,\u001b[0m \u001b[0;34m**\u001b[0m\u001b[0mkwargs\u001b[0m\u001b[0;34m)\u001b[0m\u001b[0;34m\u001b[0m\u001b[0;34m\u001b[0m\u001b[0m\n\u001b[0m\u001b[1;32m    656\u001b[0m \u001b[0;34m\u001b[0m\u001b[0m\n\u001b[1;32m    657\u001b[0m         \u001b[0;31m# Total elapsed time of the request (approximately)\u001b[0m\u001b[0;34m\u001b[0m\u001b[0;34m\u001b[0m\u001b[0m\n",
      "\u001b[0;32m~/opt/anaconda3/lib/python3.9/site-packages/requests/adapters.py\u001b[0m in \u001b[0;36msend\u001b[0;34m(self, request, stream, timeout, verify, cert, proxies)\u001b[0m\n\u001b[1;32m    437\u001b[0m         \u001b[0;32mtry\u001b[0m\u001b[0;34m:\u001b[0m\u001b[0;34m\u001b[0m\u001b[0;34m\u001b[0m\u001b[0m\n\u001b[1;32m    438\u001b[0m             \u001b[0;32mif\u001b[0m \u001b[0;32mnot\u001b[0m \u001b[0mchunked\u001b[0m\u001b[0;34m:\u001b[0m\u001b[0;34m\u001b[0m\u001b[0;34m\u001b[0m\u001b[0m\n\u001b[0;32m--> 439\u001b[0;31m                 resp = conn.urlopen(\n\u001b[0m\u001b[1;32m    440\u001b[0m                     \u001b[0mmethod\u001b[0m\u001b[0;34m=\u001b[0m\u001b[0mrequest\u001b[0m\u001b[0;34m.\u001b[0m\u001b[0mmethod\u001b[0m\u001b[0;34m,\u001b[0m\u001b[0;34m\u001b[0m\u001b[0;34m\u001b[0m\u001b[0m\n\u001b[1;32m    441\u001b[0m                     \u001b[0murl\u001b[0m\u001b[0;34m=\u001b[0m\u001b[0murl\u001b[0m\u001b[0;34m,\u001b[0m\u001b[0;34m\u001b[0m\u001b[0;34m\u001b[0m\u001b[0m\n",
      "\u001b[0;32m~/opt/anaconda3/lib/python3.9/site-packages/urllib3/connectionpool.py\u001b[0m in \u001b[0;36murlopen\u001b[0;34m(self, method, url, body, headers, retries, redirect, assert_same_host, timeout, pool_timeout, release_conn, chunked, body_pos, **response_kw)\u001b[0m\n\u001b[1;32m    697\u001b[0m \u001b[0;34m\u001b[0m\u001b[0m\n\u001b[1;32m    698\u001b[0m             \u001b[0;31m# Make the request on the httplib connection object.\u001b[0m\u001b[0;34m\u001b[0m\u001b[0;34m\u001b[0m\u001b[0m\n\u001b[0;32m--> 699\u001b[0;31m             httplib_response = self._make_request(\n\u001b[0m\u001b[1;32m    700\u001b[0m                 \u001b[0mconn\u001b[0m\u001b[0;34m,\u001b[0m\u001b[0;34m\u001b[0m\u001b[0;34m\u001b[0m\u001b[0m\n\u001b[1;32m    701\u001b[0m                 \u001b[0mmethod\u001b[0m\u001b[0;34m,\u001b[0m\u001b[0;34m\u001b[0m\u001b[0;34m\u001b[0m\u001b[0m\n",
      "\u001b[0;32m~/opt/anaconda3/lib/python3.9/site-packages/urllib3/connectionpool.py\u001b[0m in \u001b[0;36m_make_request\u001b[0;34m(self, conn, method, url, timeout, chunked, **httplib_request_kw)\u001b[0m\n\u001b[1;32m    443\u001b[0m                     \u001b[0;31m# Python 3 (including for exceptions like SystemExit).\u001b[0m\u001b[0;34m\u001b[0m\u001b[0;34m\u001b[0m\u001b[0m\n\u001b[1;32m    444\u001b[0m                     \u001b[0;31m# Otherwise it looks like a bug in the code.\u001b[0m\u001b[0;34m\u001b[0m\u001b[0;34m\u001b[0m\u001b[0m\n\u001b[0;32m--> 445\u001b[0;31m                     \u001b[0msix\u001b[0m\u001b[0;34m.\u001b[0m\u001b[0mraise_from\u001b[0m\u001b[0;34m(\u001b[0m\u001b[0me\u001b[0m\u001b[0;34m,\u001b[0m \u001b[0;32mNone\u001b[0m\u001b[0;34m)\u001b[0m\u001b[0;34m\u001b[0m\u001b[0;34m\u001b[0m\u001b[0m\n\u001b[0m\u001b[1;32m    446\u001b[0m         \u001b[0;32mexcept\u001b[0m \u001b[0;34m(\u001b[0m\u001b[0mSocketTimeout\u001b[0m\u001b[0;34m,\u001b[0m \u001b[0mBaseSSLError\u001b[0m\u001b[0;34m,\u001b[0m \u001b[0mSocketError\u001b[0m\u001b[0;34m)\u001b[0m \u001b[0;32mas\u001b[0m \u001b[0me\u001b[0m\u001b[0;34m:\u001b[0m\u001b[0;34m\u001b[0m\u001b[0;34m\u001b[0m\u001b[0m\n\u001b[1;32m    447\u001b[0m             \u001b[0mself\u001b[0m\u001b[0;34m.\u001b[0m\u001b[0m_raise_timeout\u001b[0m\u001b[0;34m(\u001b[0m\u001b[0merr\u001b[0m\u001b[0;34m=\u001b[0m\u001b[0me\u001b[0m\u001b[0;34m,\u001b[0m \u001b[0murl\u001b[0m\u001b[0;34m=\u001b[0m\u001b[0murl\u001b[0m\u001b[0;34m,\u001b[0m \u001b[0mtimeout_value\u001b[0m\u001b[0;34m=\u001b[0m\u001b[0mread_timeout\u001b[0m\u001b[0;34m)\u001b[0m\u001b[0;34m\u001b[0m\u001b[0;34m\u001b[0m\u001b[0m\n",
      "\u001b[0;32m~/opt/anaconda3/lib/python3.9/site-packages/urllib3/packages/six.py\u001b[0m in \u001b[0;36mraise_from\u001b[0;34m(value, from_value)\u001b[0m\n",
      "\u001b[0;32m~/opt/anaconda3/lib/python3.9/site-packages/urllib3/connectionpool.py\u001b[0m in \u001b[0;36m_make_request\u001b[0;34m(self, conn, method, url, timeout, chunked, **httplib_request_kw)\u001b[0m\n\u001b[1;32m    438\u001b[0m                 \u001b[0;31m# Python 3\u001b[0m\u001b[0;34m\u001b[0m\u001b[0;34m\u001b[0m\u001b[0m\n\u001b[1;32m    439\u001b[0m                 \u001b[0;32mtry\u001b[0m\u001b[0;34m:\u001b[0m\u001b[0;34m\u001b[0m\u001b[0;34m\u001b[0m\u001b[0m\n\u001b[0;32m--> 440\u001b[0;31m                     \u001b[0mhttplib_response\u001b[0m \u001b[0;34m=\u001b[0m \u001b[0mconn\u001b[0m\u001b[0;34m.\u001b[0m\u001b[0mgetresponse\u001b[0m\u001b[0;34m(\u001b[0m\u001b[0;34m)\u001b[0m\u001b[0;34m\u001b[0m\u001b[0;34m\u001b[0m\u001b[0m\n\u001b[0m\u001b[1;32m    441\u001b[0m                 \u001b[0;32mexcept\u001b[0m \u001b[0mBaseException\u001b[0m \u001b[0;32mas\u001b[0m \u001b[0me\u001b[0m\u001b[0;34m:\u001b[0m\u001b[0;34m\u001b[0m\u001b[0;34m\u001b[0m\u001b[0m\n\u001b[1;32m    442\u001b[0m                     \u001b[0;31m# Remove the TypeError from the exception chain in\u001b[0m\u001b[0;34m\u001b[0m\u001b[0;34m\u001b[0m\u001b[0m\n",
      "\u001b[0;32m~/opt/anaconda3/lib/python3.9/http/client.py\u001b[0m in \u001b[0;36mgetresponse\u001b[0;34m(self)\u001b[0m\n\u001b[1;32m   1369\u001b[0m         \u001b[0;32mtry\u001b[0m\u001b[0;34m:\u001b[0m\u001b[0;34m\u001b[0m\u001b[0;34m\u001b[0m\u001b[0m\n\u001b[1;32m   1370\u001b[0m             \u001b[0;32mtry\u001b[0m\u001b[0;34m:\u001b[0m\u001b[0;34m\u001b[0m\u001b[0;34m\u001b[0m\u001b[0m\n\u001b[0;32m-> 1371\u001b[0;31m                 \u001b[0mresponse\u001b[0m\u001b[0;34m.\u001b[0m\u001b[0mbegin\u001b[0m\u001b[0;34m(\u001b[0m\u001b[0;34m)\u001b[0m\u001b[0;34m\u001b[0m\u001b[0;34m\u001b[0m\u001b[0m\n\u001b[0m\u001b[1;32m   1372\u001b[0m             \u001b[0;32mexcept\u001b[0m \u001b[0mConnectionError\u001b[0m\u001b[0;34m:\u001b[0m\u001b[0;34m\u001b[0m\u001b[0;34m\u001b[0m\u001b[0m\n\u001b[1;32m   1373\u001b[0m                 \u001b[0mself\u001b[0m\u001b[0;34m.\u001b[0m\u001b[0mclose\u001b[0m\u001b[0;34m(\u001b[0m\u001b[0;34m)\u001b[0m\u001b[0;34m\u001b[0m\u001b[0;34m\u001b[0m\u001b[0m\n",
      "\u001b[0;32m~/opt/anaconda3/lib/python3.9/http/client.py\u001b[0m in \u001b[0;36mbegin\u001b[0;34m(self)\u001b[0m\n\u001b[1;32m    317\u001b[0m         \u001b[0;31m# read until we get a non-100 response\u001b[0m\u001b[0;34m\u001b[0m\u001b[0;34m\u001b[0m\u001b[0m\n\u001b[1;32m    318\u001b[0m         \u001b[0;32mwhile\u001b[0m \u001b[0;32mTrue\u001b[0m\u001b[0;34m:\u001b[0m\u001b[0;34m\u001b[0m\u001b[0;34m\u001b[0m\u001b[0m\n\u001b[0;32m--> 319\u001b[0;31m             \u001b[0mversion\u001b[0m\u001b[0;34m,\u001b[0m \u001b[0mstatus\u001b[0m\u001b[0;34m,\u001b[0m \u001b[0mreason\u001b[0m \u001b[0;34m=\u001b[0m \u001b[0mself\u001b[0m\u001b[0;34m.\u001b[0m\u001b[0m_read_status\u001b[0m\u001b[0;34m(\u001b[0m\u001b[0;34m)\u001b[0m\u001b[0;34m\u001b[0m\u001b[0;34m\u001b[0m\u001b[0m\n\u001b[0m\u001b[1;32m    320\u001b[0m             \u001b[0;32mif\u001b[0m \u001b[0mstatus\u001b[0m \u001b[0;34m!=\u001b[0m \u001b[0mCONTINUE\u001b[0m\u001b[0;34m:\u001b[0m\u001b[0;34m\u001b[0m\u001b[0;34m\u001b[0m\u001b[0m\n\u001b[1;32m    321\u001b[0m                 \u001b[0;32mbreak\u001b[0m\u001b[0;34m\u001b[0m\u001b[0;34m\u001b[0m\u001b[0m\n",
      "\u001b[0;32m~/opt/anaconda3/lib/python3.9/http/client.py\u001b[0m in \u001b[0;36m_read_status\u001b[0;34m(self)\u001b[0m\n\u001b[1;32m    278\u001b[0m \u001b[0;34m\u001b[0m\u001b[0m\n\u001b[1;32m    279\u001b[0m     \u001b[0;32mdef\u001b[0m \u001b[0m_read_status\u001b[0m\u001b[0;34m(\u001b[0m\u001b[0mself\u001b[0m\u001b[0;34m)\u001b[0m\u001b[0;34m:\u001b[0m\u001b[0;34m\u001b[0m\u001b[0;34m\u001b[0m\u001b[0m\n\u001b[0;32m--> 280\u001b[0;31m         \u001b[0mline\u001b[0m \u001b[0;34m=\u001b[0m \u001b[0mstr\u001b[0m\u001b[0;34m(\u001b[0m\u001b[0mself\u001b[0m\u001b[0;34m.\u001b[0m\u001b[0mfp\u001b[0m\u001b[0;34m.\u001b[0m\u001b[0mreadline\u001b[0m\u001b[0;34m(\u001b[0m\u001b[0m_MAXLINE\u001b[0m \u001b[0;34m+\u001b[0m \u001b[0;36m1\u001b[0m\u001b[0;34m)\u001b[0m\u001b[0;34m,\u001b[0m \u001b[0;34m\"iso-8859-1\"\u001b[0m\u001b[0;34m)\u001b[0m\u001b[0;34m\u001b[0m\u001b[0;34m\u001b[0m\u001b[0m\n\u001b[0m\u001b[1;32m    281\u001b[0m         \u001b[0;32mif\u001b[0m \u001b[0mlen\u001b[0m\u001b[0;34m(\u001b[0m\u001b[0mline\u001b[0m\u001b[0;34m)\u001b[0m \u001b[0;34m>\u001b[0m \u001b[0m_MAXLINE\u001b[0m\u001b[0;34m:\u001b[0m\u001b[0;34m\u001b[0m\u001b[0;34m\u001b[0m\u001b[0m\n\u001b[1;32m    282\u001b[0m             \u001b[0;32mraise\u001b[0m \u001b[0mLineTooLong\u001b[0m\u001b[0;34m(\u001b[0m\u001b[0;34m\"status line\"\u001b[0m\u001b[0;34m)\u001b[0m\u001b[0;34m\u001b[0m\u001b[0;34m\u001b[0m\u001b[0m\n",
      "\u001b[0;32m~/opt/anaconda3/lib/python3.9/socket.py\u001b[0m in \u001b[0;36mreadinto\u001b[0;34m(self, b)\u001b[0m\n\u001b[1;32m    702\u001b[0m         \u001b[0;32mwhile\u001b[0m \u001b[0;32mTrue\u001b[0m\u001b[0;34m:\u001b[0m\u001b[0;34m\u001b[0m\u001b[0;34m\u001b[0m\u001b[0m\n\u001b[1;32m    703\u001b[0m             \u001b[0;32mtry\u001b[0m\u001b[0;34m:\u001b[0m\u001b[0;34m\u001b[0m\u001b[0;34m\u001b[0m\u001b[0m\n\u001b[0;32m--> 704\u001b[0;31m                 \u001b[0;32mreturn\u001b[0m \u001b[0mself\u001b[0m\u001b[0;34m.\u001b[0m\u001b[0m_sock\u001b[0m\u001b[0;34m.\u001b[0m\u001b[0mrecv_into\u001b[0m\u001b[0;34m(\u001b[0m\u001b[0mb\u001b[0m\u001b[0;34m)\u001b[0m\u001b[0;34m\u001b[0m\u001b[0;34m\u001b[0m\u001b[0m\n\u001b[0m\u001b[1;32m    705\u001b[0m             \u001b[0;32mexcept\u001b[0m \u001b[0mtimeout\u001b[0m\u001b[0;34m:\u001b[0m\u001b[0;34m\u001b[0m\u001b[0;34m\u001b[0m\u001b[0m\n\u001b[1;32m    706\u001b[0m                 \u001b[0mself\u001b[0m\u001b[0;34m.\u001b[0m\u001b[0m_timeout_occurred\u001b[0m \u001b[0;34m=\u001b[0m \u001b[0;32mTrue\u001b[0m\u001b[0;34m\u001b[0m\u001b[0;34m\u001b[0m\u001b[0m\n",
      "\u001b[0;31mKeyboardInterrupt\u001b[0m: "
     ]
    }
   ],
   "source": [
    "for url in url:\n",
    "    url = \"http://api.openweathermap.org/data/2.5/weather?&appid=\" + api_key\n",
    "for city in cities:\n",
    "    city_url = url + \"&q=\" + city\n",
    "    test = requests.get(city_url).json()\n",
    " \n",
    "    print(f\"Processing Record | {city}\")\n",
    "    pprint(test)\n",
    "\n",
    "    # print(city_url)\n",
    "    \n",
    "# raw_lat = {\n",
    "#     \"City\": [], \n",
    "#     # \"Country\": [], \n",
    "#     \"Lat\": []\n",
    "#     # \"Lng\": []\n",
    "#     }\n",
    "# raw_lat_df = pd.DataFrame(raw_lat)\n",
    "# raw_lat_df\n",
    "\n",
    "# import pandas as pd\n",
    "\n",
    "# cities_df = pd.DataFrame(cities.csv)\n",
    "# cities_df.head()"
   ]
  },
  {
   "cell_type": "markdown",
   "metadata": {},
   "source": [
    "### Perform API Calls\n",
    "* Perform a weather check on each city using a series of successive API calls.\n",
    "* Include a print log of each city as it'sbeing processed (with the city number and city name).\n"
   ]
  },
  {
   "cell_type": "code",
   "execution_count": 53,
   "metadata": {
    "tags": []
   },
   "outputs": [],
   "source": [
    "# Try to access key that doesn't exist\n",
    "# try:\n",
    "#     students[\"Jezebel\"]\n",
    "# except KeyError:\n",
    "#     print(\"Oops, that key doesn't exist.\")\n",
    "\n",
    "# # \"Catching\" the error lets the rest of our code execute\n",
    "# print(\"...But the program doesn't die early!\")"
   ]
  },
  {
   "cell_type": "code",
   "execution_count": 70,
   "metadata": {
    "scrolled": true
   },
   "outputs": [
    {
     "ename": "KeyError",
     "evalue": "'name'",
     "output_type": "error",
     "traceback": [
      "\u001b[0;31m---------------------------------------------------------------------------\u001b[0m",
      "\u001b[0;31mKeyError\u001b[0m                                  Traceback (most recent call last)",
      "\u001b[0;32m/var/folders/cr/wm661_8s4rnddy4mgjplwkl00000gn/T/ipykernel_6697/2297758977.py\u001b[0m in \u001b[0;36m<module>\u001b[0;34m\u001b[0m\n\u001b[1;32m     25\u001b[0m     \u001b[0mcity_url\u001b[0m \u001b[0;34m=\u001b[0m \u001b[0murl\u001b[0m \u001b[0;34m+\u001b[0m \u001b[0;34m\"&q=\"\u001b[0m \u001b[0;34m+\u001b[0m \u001b[0mcity\u001b[0m\u001b[0;34m\u001b[0m\u001b[0;34m\u001b[0m\u001b[0m\n\u001b[1;32m     26\u001b[0m     \u001b[0mresponse\u001b[0m \u001b[0;34m=\u001b[0m \u001b[0mrequests\u001b[0m\u001b[0;34m.\u001b[0m\u001b[0mget\u001b[0m\u001b[0;34m(\u001b[0m\u001b[0mcity_url\u001b[0m\u001b[0;34m)\u001b[0m\u001b[0;34m.\u001b[0m\u001b[0mjson\u001b[0m\u001b[0;34m(\u001b[0m\u001b[0;34m)\u001b[0m\u001b[0;34m\u001b[0m\u001b[0;34m\u001b[0m\u001b[0m\n\u001b[0;32m---> 27\u001b[0;31m     \u001b[0mname\u001b[0m\u001b[0;34m.\u001b[0m\u001b[0mappend\u001b[0m\u001b[0;34m(\u001b[0m\u001b[0mresponse\u001b[0m\u001b[0;34m[\u001b[0m\u001b[0;34m'name'\u001b[0m\u001b[0;34m]\u001b[0m\u001b[0;34m)\u001b[0m\u001b[0;34m\u001b[0m\u001b[0;34m\u001b[0m\u001b[0m\n\u001b[0m\u001b[1;32m     28\u001b[0m     \u001b[0mcoord\u001b[0m\u001b[0;34m.\u001b[0m\u001b[0mappend\u001b[0m\u001b[0;34m(\u001b[0m\u001b[0mresponse\u001b[0m\u001b[0;34m[\u001b[0m\u001b[0;34m'coord'\u001b[0m\u001b[0;34m]\u001b[0m\u001b[0;34m)\u001b[0m\u001b[0;34m\u001b[0m\u001b[0;34m\u001b[0m\u001b[0m\n\u001b[1;32m     29\u001b[0m     \u001b[0mmain\u001b[0m\u001b[0;34m.\u001b[0m\u001b[0mappend\u001b[0m\u001b[0;34m(\u001b[0m\u001b[0mresponse\u001b[0m\u001b[0;34m[\u001b[0m\u001b[0;34m'main'\u001b[0m\u001b[0;34m]\u001b[0m\u001b[0;34m)\u001b[0m\u001b[0;34m\u001b[0m\u001b[0;34m\u001b[0m\u001b[0m\n",
      "\u001b[0;31mKeyError\u001b[0m: 'name'"
     ]
    }
   ],
   "source": [
    "# # Save config information\n",
    "# base_url = \"http://api.openweathermap.org/data/2.5/weather?\"\n",
    "\n",
    "# pd.location_df(lat_lng)\n",
    "# pd.location_df\n",
    "\n",
    "# lat = \"Lat\": [] \n",
    "# lng = \"Lng\": []\n",
    "\n",
    "# Build query URL\n",
    "\n",
    "# set up lists to hold reponse info\n",
    "name = []\n",
    "coord = []\n",
    "main = []\n",
    "clouds = []\n",
    "wind = []\n",
    "sys = []\n",
    "dt = []\n",
    "\n",
    "# Loop through the list of cities and perform a request for data on each\n",
    "for url in url:\n",
    "    url = \"http://api.openweathermap.org/data/2.5/weather?&appid=\" + api_key\n",
    "for city in cities:\n",
    "    city_url = url + \"&q=\" + city\n",
    "    response = requests.get(city_url).json()\n",
    "    name.append(response['name'])\n",
    "    coord.append(response['coord'])\n",
    "    main.append(response['main'])\n",
    "    clouds.append(response['clouds'])\n",
    "    wind.append(response['wind'])\n",
    "    sys.append(response['sys'])\n",
    "    dt.append(response['dt'])\n",
    "print(f\"The name information received is: {name}\")\n",
    "print(f\"The coordinate information received is: {coord}\")\n",
    "print(f\"The temperature information received is: {main}\")\n",
    "print(f\"The cloud information received is: {clouds}\")\n",
    "print(f\"The wind information received is: {wind}\")\n",
    "print(f\"The country information received is: {sys}\")\n",
    "print(f\"The date information received is: {dt}\")"
   ]
  },
  {
   "cell_type": "code",
   "execution_count": null,
   "metadata": {
    "tags": []
   },
   "outputs": [],
   "source": [
    "# Build query URL and request your results in Celsius\n",
    "\n",
    "base_url = \"http://api.openweathermap.org/data/2.5/weather?\"\n",
    "query_url = f\"{base_url}appid={api_key}\"\n",
    "for city in cities:\n",
    "    city_url = url + \"&q=\" + city\n",
    "        \n",
    "city_weather = requests.get(city_url).json()\n",
    "print(query_url)\n",
    "\n",
    "# # print(\"------\")\n",
    "\n",
    "# # Get weather data\n",
    "# # temp = {\"city\": [], \"metric\": [], \"imperial\": []}\n",
    "# # cities = [(\"bujumbura\", -3.3752982, 29.2843385), (\"chicago\", 41.8336478, -87.872047)]\n",
    "# # for city in cities:\n",
    "# #     for u in ['metric', 'imperial']:\n",
    "# #         print(u)\n",
    "# #         units_query_url = query_url + f\"&lat={city[1]}&lon={city[2]}&units={u}\"\n",
    "# #         weather_response = requests.get(units_query_url)\n",
    "# #         print(units_query_url)\n",
    "# #         weather_json = weather_response.json()\n",
    "# #         pprint(weather_json[\"main\"])\n",
    "# #         if u == 'metric':\n",
    "# #             tempc = weather_json['main']['temp']\n",
    "# #         else:\n",
    "# #             tempf = weather_json['main']['temp']\n",
    "# #         print(\"------\")\n",
    "# #     temp[\"metric\"].append(tempc)\n",
    "# #     temp[\"imperial\"].append(tempf)\n",
    "# #     temp['city'].append(city[0])\n",
    "# # print(temp)\n",
    "# # pd.DataFrame(temp)"
   ]
  },
  {
   "cell_type": "code",
   "execution_count": null,
   "metadata": {},
   "outputs": [],
   "source": []
  },
  {
   "cell_type": "markdown",
   "metadata": {},
   "source": [
    "### Convert Raw Data to DataFrame\n",
    "* Export the city data into a .csv.\n",
    "* Display the DataFrame"
   ]
  },
  {
   "cell_type": "code",
   "execution_count": null,
   "metadata": {},
   "outputs": [],
   "source": []
  },
  {
   "cell_type": "code",
   "execution_count": null,
   "metadata": {},
   "outputs": [],
   "source": []
  },
  {
   "cell_type": "markdown",
   "metadata": {},
   "source": [
    "## Inspect the data and remove the cities where the humidity > 100%.\n",
    "----\n",
    "Skip this step if there are no cities that have humidity > 100%. "
   ]
  },
  {
   "cell_type": "code",
   "execution_count": null,
   "metadata": {},
   "outputs": [],
   "source": []
  },
  {
   "cell_type": "code",
   "execution_count": null,
   "metadata": {},
   "outputs": [],
   "source": [
    "#  Get the indices of cities that have humidity over 100%.\n"
   ]
  },
  {
   "cell_type": "code",
   "execution_count": null,
   "metadata": {},
   "outputs": [],
   "source": [
    "# Make a new DataFrame equal to the city data to drop all humidity outliers by index.\n",
    "# Passing \"inplace=False\" will make a copy of the city_data DataFrame, which we call \"clean_city_data\".\n"
   ]
  },
  {
   "cell_type": "code",
   "execution_count": null,
   "metadata": {},
   "outputs": [],
   "source": [
    "\n"
   ]
  },
  {
   "cell_type": "markdown",
   "metadata": {},
   "source": [
    "## Plotting the Data\n",
    "* Use proper labeling of the plots using plot titles (including date of analysis) and axes labels.\n",
    "* Save the plotted figures as .pngs."
   ]
  },
  {
   "cell_type": "markdown",
   "metadata": {},
   "source": [
    "## Latitude vs. Temperature Plot"
   ]
  },
  {
   "cell_type": "code",
   "execution_count": null,
   "metadata": {
    "scrolled": true
   },
   "outputs": [],
   "source": []
  },
  {
   "cell_type": "markdown",
   "metadata": {},
   "source": [
    "## Latitude vs. Humidity Plot"
   ]
  },
  {
   "cell_type": "code",
   "execution_count": null,
   "metadata": {},
   "outputs": [],
   "source": []
  },
  {
   "cell_type": "markdown",
   "metadata": {},
   "source": [
    "## Latitude vs. Cloudiness Plot"
   ]
  },
  {
   "cell_type": "code",
   "execution_count": null,
   "metadata": {},
   "outputs": [],
   "source": []
  },
  {
   "cell_type": "markdown",
   "metadata": {},
   "source": [
    "## Latitude vs. Wind Speed Plot"
   ]
  },
  {
   "cell_type": "code",
   "execution_count": null,
   "metadata": {},
   "outputs": [],
   "source": []
  },
  {
   "cell_type": "markdown",
   "metadata": {},
   "source": [
    "## Linear Regression"
   ]
  },
  {
   "cell_type": "code",
   "execution_count": null,
   "metadata": {},
   "outputs": [],
   "source": []
  },
  {
   "cell_type": "markdown",
   "metadata": {},
   "source": [
    "####  Northern Hemisphere - Max Temp vs. Latitude Linear Regression"
   ]
  },
  {
   "cell_type": "code",
   "execution_count": null,
   "metadata": {},
   "outputs": [],
   "source": []
  },
  {
   "cell_type": "markdown",
   "metadata": {},
   "source": [
    "####  Southern Hemisphere - Max Temp vs. Latitude Linear Regression"
   ]
  },
  {
   "cell_type": "code",
   "execution_count": null,
   "metadata": {},
   "outputs": [],
   "source": []
  },
  {
   "cell_type": "markdown",
   "metadata": {},
   "source": [
    "####  Northern Hemisphere - Humidity (%) vs. Latitude Linear Regression"
   ]
  },
  {
   "cell_type": "code",
   "execution_count": null,
   "metadata": {},
   "outputs": [],
   "source": []
  },
  {
   "cell_type": "markdown",
   "metadata": {},
   "source": [
    "####  Southern Hemisphere - Humidity (%) vs. Latitude Linear Regression"
   ]
  },
  {
   "cell_type": "code",
   "execution_count": null,
   "metadata": {},
   "outputs": [],
   "source": []
  },
  {
   "cell_type": "markdown",
   "metadata": {},
   "source": [
    "####  Northern Hemisphere - Cloudiness (%) vs. Latitude Linear Regression"
   ]
  },
  {
   "cell_type": "code",
   "execution_count": null,
   "metadata": {},
   "outputs": [],
   "source": []
  },
  {
   "cell_type": "markdown",
   "metadata": {},
   "source": [
    "####  Southern Hemisphere - Cloudiness (%) vs. Latitude Linear Regression"
   ]
  },
  {
   "cell_type": "code",
   "execution_count": null,
   "metadata": {},
   "outputs": [],
   "source": []
  },
  {
   "cell_type": "markdown",
   "metadata": {},
   "source": [
    "####  Northern Hemisphere - Wind Speed (mph) vs. Latitude Linear Regression"
   ]
  },
  {
   "cell_type": "code",
   "execution_count": null,
   "metadata": {},
   "outputs": [],
   "source": []
  },
  {
   "cell_type": "markdown",
   "metadata": {},
   "source": [
    "####  Southern Hemisphere - Wind Speed (mph) vs. Latitude Linear Regression"
   ]
  },
  {
   "cell_type": "code",
   "execution_count": null,
   "metadata": {},
   "outputs": [],
   "source": []
  },
  {
   "cell_type": "code",
   "execution_count": null,
   "metadata": {},
   "outputs": [],
   "source": []
  }
 ],
 "metadata": {
  "anaconda-cloud": {},
  "kernel_info": {
   "name": "python3"
  },
  "kernelspec": {
   "display_name": "Python 3 (ipykernel)",
   "language": "python",
   "name": "python3"
  },
  "language_info": {
   "codemirror_mode": {
    "name": "ipython",
    "version": 3
   },
   "file_extension": ".py",
   "mimetype": "text/x-python",
   "name": "python",
   "nbconvert_exporter": "python",
   "pygments_lexer": "ipython3",
   "version": "3.9.7"
  },
  "latex_envs": {
   "LaTeX_envs_menu_present": true,
   "autoclose": false,
   "autocomplete": true,
   "bibliofile": "biblio.bib",
   "cite_by": "apalike",
   "current_citInitial": 1,
   "eqLabelWithNumbers": true,
   "eqNumInitial": 1,
   "hotkeys": {
    "equation": "Ctrl-E",
    "itemize": "Ctrl-I"
   },
   "labels_anchors": false,
   "latex_user_defs": false,
   "report_style_numbering": false,
   "user_envs_cfg": false
  },
  "nteract": {
   "version": "0.12.3"
  }
 },
 "nbformat": 4,
 "nbformat_minor": 4
}
