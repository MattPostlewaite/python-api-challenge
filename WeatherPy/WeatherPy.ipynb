{
 "cells": [
  {
   "cell_type": "markdown",
   "metadata": {},
   "source": [
    "# WeatherPy\n",
    "----\n",
    "\n",
    "#### Note\n",
    "* Instructions have been included for each segment. You do not have to follow them exactly, but they are included to help you think through the steps."
   ]
  },
  {
   "cell_type": "code",
   "execution_count": 1,
   "metadata": {
    "scrolled": true
   },
   "outputs": [
    {
     "name": "stdout",
     "output_type": "stream",
     "text": [
      "0b6dfa3892b2a54cd7cb3b5c3fca45da\n"
     ]
    }
   ],
   "source": [
    "# Dependencies and Setup\n",
    "import matplotlib.pyplot as plt\n",
    "import pandas as pd\n",
    "import numpy as np\n",
    "import requests\n",
    "import json\n",
    "import time\n",
    "from scipy.stats import linregress\n",
    "from pprint import pprint\n",
    "\n",
    "# Import API key\n",
    "from config import api_key\n",
    "\n",
    "# Incorporated citipy to determine city based on latitude and longitude\n",
    "from citipy import citipy\n",
    "\n",
    "# Output File (CSV)\n",
    "output_data_file = \"output_data/cities.csv\"\n",
    "\n",
    "# Range of latitudes and longitudes\n",
    "lat_range = (-90, 90)\n",
    "lng_range = (-180, 180)\n",
    "print(api_key)"
   ]
  },
  {
   "cell_type": "code",
   "execution_count": 2,
   "metadata": {
    "tags": []
   },
   "outputs": [
    {
     "name": "stdout",
     "output_type": "stream",
     "text": [
      "http://api.openweathermap.org/data/2.5/weather?appid=0b6dfa3892b2a54cd7cb3b5c3fca45da&q=City\n"
     ]
    }
   ],
   "source": [
    "# # # Save config information\n",
    "url = \"http://api.openweathermap.org/data/2.5/weather?\"\n",
    "# city = [{\"ostrovnoy\", \"mahebourg\", \"qaanaaq\", \"zhuhai\", \"cape town\",...\"tongren\"}]\n",
    "city = [\"ostrovnoy\"]\n",
    "\n",
    "# Build query URL\n",
    "query_url = url + \"appid=\" + api_key + \"&q=\" + 'City'\n",
    "query_url\n",
    "print(query_url)\n",
    "\n",
    "# Build query URL and request your results in Celsius\n",
    "\n",
    "# base_url = \"http://api.openweathermap.org/data/2.5/weather?\"\n",
    "# query_url = f\"{base_url}appid={api_key}\"\n",
    "# for city in cities:\n",
    "#     city_url = query_url = \"&q=\" + city\n",
    "#     city_weather = requests.get(city_url).json()"
   ]
  },
  {
   "cell_type": "code",
   "execution_count": 3,
   "metadata": {
    "collapsed": true,
    "jupyter": {
     "outputs_hidden": true
    },
    "tags": []
   },
   "outputs": [
    {
     "name": "stdout",
     "output_type": "stream",
     "text": [
      "{'base': 'stations',\n",
      " 'clouds': {'all': 40},\n",
      " 'cod': 200,\n",
      " 'coord': {'lat': -35.2813, 'lon': 149.1292},\n",
      " 'dt': 1644364669,\n",
      " 'id': 2172517,\n",
      " 'main': {'feels_like': 293.45,\n",
      "          'humidity': 88,\n",
      "          'pressure': 1014,\n",
      "          'temp': 293.1,\n",
      "          'temp_max': 297.84,\n",
      "          'temp_min': 290.14},\n",
      " 'name': 'City',\n",
      " 'sys': {'country': 'AU',\n",
      "         'id': 9588,\n",
      "         'sunrise': 1644348617,\n",
      "         'sunset': 1644397511,\n",
      "         'type': 1},\n",
      " 'timezone': 39600,\n",
      " 'visibility': 10000,\n",
      " 'weather': [{'description': 'scattered clouds',\n",
      "              'icon': '03d',\n",
      "              'id': 802,\n",
      "              'main': 'Clouds'}],\n",
      " 'wind': {'deg': 330, 'speed': 2.06}}\n"
     ]
    }
   ],
   "source": [
    "# Get weather data\n",
    "weather_response = requests.get(query_url)\n",
    "weather_json = weather_response.json()\n",
    "\n",
    "pprint(weather_json)"
   ]
  },
  {
   "cell_type": "code",
   "execution_count": 8,
   "metadata": {
    "collapsed": true,
    "jupyter": {
     "outputs_hidden": true
    },
    "tags": []
   },
   "outputs": [
    {
     "name": "stdout",
     "output_type": "stream",
     "text": [
      "http://api.openweathermap.org/data/2.5/weather?appid=0b6dfa3892b2a54cd7cb3b5c3fca45da&q=mahebourg\n",
      "{'base': 'stations',\n",
      " 'clouds': {'all': 100},\n",
      " 'cod': 200,\n",
      " 'coord': {'lat': -20.4081, 'lon': 57.7},\n",
      " 'dt': 1644364906,\n",
      " 'id': 934322,\n",
      " 'main': {'feels_like': 297.7,\n",
      "          'grnd_level': 1008,\n",
      "          'humidity': 79,\n",
      "          'pressure': 1011,\n",
      "          'sea_level': 1011,\n",
      "          'temp': 297.18,\n",
      "          'temp_max': 297.18,\n",
      "          'temp_min': 297.18},\n",
      " 'name': 'Mahébourg',\n",
      " 'sys': {'country': 'MU',\n",
      "         'id': 2002134,\n",
      "         'sunrise': 1644371838,\n",
      "         'sunset': 1644418177,\n",
      "         'type': 2},\n",
      " 'timezone': 14400,\n",
      " 'visibility': 10000,\n",
      " 'weather': [{'description': 'overcast clouds',\n",
      "              'icon': '04n',\n",
      "              'id': 804,\n",
      "              'main': 'Clouds'}],\n",
      " 'wind': {'deg': 122, 'gust': 4.51, 'speed': 3.73}}\n"
     ]
    }
   ],
   "source": [
    "# Repeat steps above\n",
    "url = \"http://api.openweathermap.org/data/2.5/weather?\"\n",
    "# city = [{\"ostrovnoy\", \"mahebourg\", \"qaanaaq\", \"zhuhai\", \"cape town\",...\"tongren\"}]\n",
    "city = \"mahebourg\"\n",
    "\n",
    "query_url = url + \"appid=\" + api_key + \"&q=\" + city\n",
    "query_url\n",
    "print(query_url)\n",
    "\n",
    "weather_response = requests.get(query_url)\n",
    "weather_json = weather_response.json()\n",
    "\n",
    "pprint(weather_json)"
   ]
  },
  {
   "cell_type": "code",
   "execution_count": 9,
   "metadata": {
    "collapsed": true,
    "jupyter": {
     "outputs_hidden": true
    },
    "tags": []
   },
   "outputs": [
    {
     "name": "stdout",
     "output_type": "stream",
     "text": [
      "http://api.openweathermap.org/data/2.5/weather?appid=0b6dfa3892b2a54cd7cb3b5c3fca45da&q=qaanaaq\n",
      "{'base': 'stations',\n",
      " 'clouds': {'all': 100},\n",
      " 'cod': 200,\n",
      " 'coord': {'lat': 77.484, 'lon': -69.3632},\n",
      " 'dt': 1644364928,\n",
      " 'id': 3831208,\n",
      " 'main': {'feels_like': 240.18,\n",
      "          'grnd_level': 1014,\n",
      "          'humidity': 90,\n",
      "          'pressure': 1018,\n",
      "          'sea_level': 1018,\n",
      "          'temp': 247.18,\n",
      "          'temp_max': 247.18,\n",
      "          'temp_min': 247.18},\n",
      " 'name': 'Qaanaaq',\n",
      " 'sys': {'country': 'GL', 'sunrise': 0, 'sunset': 0},\n",
      " 'timezone': -14400,\n",
      " 'visibility': 8578,\n",
      " 'weather': [{'description': 'overcast clouds',\n",
      "              'icon': '04n',\n",
      "              'id': 804,\n",
      "              'main': 'Clouds'}],\n",
      " 'wind': {'deg': 27, 'gust': 2.53, 'speed': 2.53}}\n"
     ]
    }
   ],
   "source": [
    "# Repeat steps above\n",
    "url = \"http://api.openweathermap.org/data/2.5/weather?\"\n",
    "# city = [{\"ostrovnoy\", \"mahebourg\", \"qaanaaq\", \"zhuhai\", \"cape town\",...\"tongren\"}]\n",
    "city = \"qaanaaq\"\n",
    "\n",
    "query_url = url + \"appid=\" + api_key + \"&q=\" + city\n",
    "query_url\n",
    "print(query_url)\n",
    "\n",
    "weather_response = requests.get(query_url)\n",
    "weather_json = weather_response.json()\n",
    "\n",
    "pprint(weather_json)"
   ]
  },
  {
   "cell_type": "code",
   "execution_count": 11,
   "metadata": {
    "collapsed": true,
    "jupyter": {
     "outputs_hidden": true
    },
    "tags": []
   },
   "outputs": [
    {
     "name": "stdout",
     "output_type": "stream",
     "text": [
      "http://api.openweathermap.org/data/2.5/weather?appid=0b6dfa3892b2a54cd7cb3b5c3fca45da&q=zhuhai\n",
      "{'base': 'stations',\n",
      " 'clouds': {'all': 40},\n",
      " 'cod': 200,\n",
      " 'coord': {'lat': 22.2769, 'lon': 113.5678},\n",
      " 'dt': 1644364964,\n",
      " 'id': 1790437,\n",
      " 'main': {'feels_like': 285.88,\n",
      "          'humidity': 82,\n",
      "          'pressure': 1020,\n",
      "          'temp': 286.36,\n",
      "          'temp_max': 289.81,\n",
      "          'temp_min': 284.74},\n",
      " 'name': 'Zhuhai',\n",
      " 'sys': {'country': 'CN',\n",
      "         'id': 9204,\n",
      "         'sunrise': 1644361265,\n",
      "         'sunset': 1644401933,\n",
      "         'type': 1},\n",
      " 'timezone': 28800,\n",
      " 'visibility': 10000,\n",
      " 'weather': [{'description': 'scattered clouds',\n",
      "              'icon': '03d',\n",
      "              'id': 802,\n",
      "              'main': 'Clouds'}],\n",
      " 'wind': {'deg': 350, 'speed': 7.2}}\n"
     ]
    }
   ],
   "source": [
    "# Repeat steps above\n",
    "url = \"http://api.openweathermap.org/data/2.5/weather?\"\n",
    "# city = [{\"ostrovnoy\", \"mahebourg\", \"qaanaaq\", \"zhuhai\", \"cape town\",...\"tongren\"}]\n",
    "city = \"zhuhai\"\n",
    "\n",
    "query_url = url + \"appid=\" + api_key + \"&q=\" + city\n",
    "query_url\n",
    "print(query_url)\n",
    "\n",
    "weather_response = requests.get(query_url)\n",
    "weather_json = weather_response.json()\n",
    "\n",
    "pprint(weather_json)"
   ]
  },
  {
   "cell_type": "code",
   "execution_count": 12,
   "metadata": {
    "collapsed": true,
    "jupyter": {
     "outputs_hidden": true
    },
    "tags": []
   },
   "outputs": [
    {
     "name": "stdout",
     "output_type": "stream",
     "text": [
      "http://api.openweathermap.org/data/2.5/weather?appid=0b6dfa3892b2a54cd7cb3b5c3fca45da&q=cape town\n",
      "{'base': 'stations',\n",
      " 'clouds': {'all': 20},\n",
      " 'cod': 200,\n",
      " 'coord': {'lat': -33.9258, 'lon': 18.4232},\n",
      " 'dt': 1644364740,\n",
      " 'id': 3369157,\n",
      " 'main': {'feels_like': 290.59,\n",
      "          'humidity': 80,\n",
      "          'pressure': 1013,\n",
      "          'temp': 290.69,\n",
      "          'temp_max': 292.09,\n",
      "          'temp_min': 288.38},\n",
      " 'name': 'Cape Town',\n",
      " 'sys': {'country': 'ZA',\n",
      "         'id': 2033665,\n",
      "         'sunrise': 1644380142,\n",
      "         'sunset': 1644428727,\n",
      "         'type': 2},\n",
      " 'timezone': 7200,\n",
      " 'visibility': 10000,\n",
      " 'weather': [{'description': 'few clouds',\n",
      "              'icon': '02n',\n",
      "              'id': 801,\n",
      "              'main': 'Clouds'}],\n",
      " 'wind': {'deg': 130, 'speed': 2.57}}\n"
     ]
    }
   ],
   "source": [
    "# Repeat steps above\n",
    "url = \"http://api.openweathermap.org/data/2.5/weather?\"\n",
    "# city = [{\"ostrovnoy\", \"mahebourg\", \"qaanaaq\", \"zhuhai\", \"cape town\",...\"tongren\"}]\n",
    "city = \"cape town\"\n",
    "\n",
    "query_url = url + \"appid=\" + api_key + \"&q=\" + city\n",
    "query_url\n",
    "print(query_url)\n",
    "\n",
    "weather_response = requests.get(query_url)\n",
    "weather_json = weather_response.json()\n",
    "\n",
    "pprint(weather_json)"
   ]
  },
  {
   "cell_type": "code",
   "execution_count": 13,
   "metadata": {
    "collapsed": true,
    "jupyter": {
     "outputs_hidden": true
    },
    "tags": []
   },
   "outputs": [
    {
     "name": "stdout",
     "output_type": "stream",
     "text": [
      "http://api.openweathermap.org/data/2.5/weather?appid=0b6dfa3892b2a54cd7cb3b5c3fca45da&q=atuona\n",
      "{'base': 'stations',\n",
      " 'clouds': {'all': 16},\n",
      " 'cod': 200,\n",
      " 'coord': {'lat': -9.8, 'lon': -139.0333},\n",
      " 'dt': 1644365043,\n",
      " 'id': 4020109,\n",
      " 'main': {'feels_like': 299.7,\n",
      "          'grnd_level': 1004,\n",
      "          'humidity': 76,\n",
      "          'pressure': 1012,\n",
      "          'sea_level': 1012,\n",
      "          'temp': 299.07,\n",
      "          'temp_max': 299.07,\n",
      "          'temp_min': 299.07},\n",
      " 'name': 'Atuona',\n",
      " 'sys': {'country': 'PF', 'sunrise': 1644333381, 'sunset': 1644378263},\n",
      " 'timezone': -34200,\n",
      " 'visibility': 10000,\n",
      " 'weather': [{'description': 'few clouds',\n",
      "              'icon': '02d',\n",
      "              'id': 801,\n",
      "              'main': 'Clouds'}],\n",
      " 'wind': {'deg': 90, 'gust': 7.8, 'speed': 7.5}}\n"
     ]
    }
   ],
   "source": [
    "# Repeat steps above\n",
    "url = \"http://api.openweathermap.org/data/2.5/weather?\"\n",
    "# city = [{\"ostrovnoy\", \"mahebourg\", \"qaanaaq\", \"zhuhai\", \"cape town\",...\"tongren\"}]\n",
    "city = \"atuona\"\n",
    "\n",
    "query_url = url + \"appid=\" + api_key + \"&q=\" + city\n",
    "query_url\n",
    "print(query_url)\n",
    "\n",
    "weather_response = requests.get(query_url)\n",
    "weather_json = weather_response.json()\n",
    "\n",
    "pprint(weather_json)"
   ]
  },
  {
   "cell_type": "code",
   "execution_count": 14,
   "metadata": {
    "collapsed": true,
    "jupyter": {
     "outputs_hidden": true
    },
    "tags": []
   },
   "outputs": [
    {
     "name": "stdout",
     "output_type": "stream",
     "text": [
      "http://api.openweathermap.org/data/2.5/weather?appid=0b6dfa3892b2a54cd7cb3b5c3fca45da&q=flinders\n",
      "{'base': 'stations',\n",
      " 'clouds': {'all': 1},\n",
      " 'cod': 200,\n",
      " 'coord': {'lat': -34.5833, 'lon': 150.8552},\n",
      " 'dt': 1644365054,\n",
      " 'id': 6255012,\n",
      " 'main': {'feels_like': 301.95,\n",
      "          'humidity': 61,\n",
      "          'pressure': 1005,\n",
      "          'temp': 300.63,\n",
      "          'temp_max': 302.62,\n",
      "          'temp_min': 297.71},\n",
      " 'name': 'Flinders',\n",
      " 'sys': {'country': 'AU',\n",
      "         'id': 2033627,\n",
      "         'sunrise': 1644348272,\n",
      "         'sunset': 1644397027,\n",
      "         'type': 2},\n",
      " 'timezone': 39600,\n",
      " 'visibility': 10000,\n",
      " 'weather': [{'description': 'clear sky',\n",
      "              'icon': '01d',\n",
      "              'id': 800,\n",
      "              'main': 'Clear'}],\n",
      " 'wind': {'deg': 249, 'gust': 3.58, 'speed': 1.79}}\n"
     ]
    }
   ],
   "source": [
    "# Repeat steps above\n",
    "url = \"http://api.openweathermap.org/data/2.5/weather?\"\n",
    "# city = [{\"ostrovnoy\", \"mahebourg\", \"qaanaaq\", \"zhuhai\", \"cape town\",...\"tongren\"}]\n",
    "city = \"flinders\"\n",
    "\n",
    "query_url = url + \"appid=\" + api_key + \"&q=\" + city\n",
    "query_url\n",
    "print(query_url)\n",
    "\n",
    "weather_response = requests.get(query_url)\n",
    "weather_json = weather_response.json()\n",
    "\n",
    "pprint(weather_json)"
   ]
  },
  {
   "cell_type": "code",
   "execution_count": 15,
   "metadata": {
    "collapsed": true,
    "jupyter": {
     "outputs_hidden": true
    },
    "tags": []
   },
   "outputs": [
    {
     "name": "stdout",
     "output_type": "stream",
     "text": [
      "http://api.openweathermap.org/data/2.5/weather?appid=0b6dfa3892b2a54cd7cb3b5c3fca45da&q=opuwo\n",
      "{'base': 'stations',\n",
      " 'clouds': {'all': 39},\n",
      " 'cod': 200,\n",
      " 'coord': {'lat': -18.0607, 'lon': 13.84},\n",
      " 'dt': 1644365067,\n",
      " 'id': 3354077,\n",
      " 'main': {'feels_like': 292.32,\n",
      "          'grnd_level': 887,\n",
      "          'humidity': 59,\n",
      "          'pressure': 1013,\n",
      "          'sea_level': 1013,\n",
      "          'temp': 292.76,\n",
      "          'temp_max': 292.76,\n",
      "          'temp_min': 292.76},\n",
      " 'name': 'Opuwo',\n",
      " 'sys': {'country': 'NA', 'sunrise': 1644382539, 'sunset': 1644428530},\n",
      " 'timezone': 7200,\n",
      " 'visibility': 10000,\n",
      " 'weather': [{'description': 'scattered clouds',\n",
      "              'icon': '03n',\n",
      "              'id': 802,\n",
      "              'main': 'Clouds'}],\n",
      " 'wind': {'deg': 248, 'gust': 5.29, 'speed': 3.12}}\n"
     ]
    }
   ],
   "source": [
    "# Repeat steps above\n",
    "url = \"http://api.openweathermap.org/data/2.5/weather?\"\n",
    "# city = [{\"ostrovnoy\", \"mahebourg\", \"qaanaaq\", \"zhuhai\", \"cape town\",...\"tongren\"}]\n",
    "city = \"opuwo\"\n",
    "\n",
    "query_url = url + \"appid=\" + api_key + \"&q=\" + city\n",
    "query_url\n",
    "print(query_url)\n",
    "\n",
    "weather_response = requests.get(query_url)\n",
    "weather_json = weather_response.json()\n",
    "\n",
    "pprint(weather_json)"
   ]
  },
  {
   "cell_type": "code",
   "execution_count": 16,
   "metadata": {
    "collapsed": true,
    "jupyter": {
     "outputs_hidden": true
    },
    "tags": []
   },
   "outputs": [
    {
     "name": "stdout",
     "output_type": "stream",
     "text": [
      "http://api.openweathermap.org/data/2.5/weather?appid=0b6dfa3892b2a54cd7cb3b5c3fca45da&q=tiksi\n",
      "{'base': 'stations',\n",
      " 'clouds': {'all': 83},\n",
      " 'cod': 200,\n",
      " 'coord': {'lat': 71.6872, 'lon': 128.8694},\n",
      " 'dt': 1644365078,\n",
      " 'id': 2015306,\n",
      " 'main': {'feels_like': 238.2,\n",
      "          'grnd_level': 1023,\n",
      "          'humidity': 98,\n",
      "          'pressure': 1029,\n",
      "          'sea_level': 1029,\n",
      "          'temp': 245.2,\n",
      "          'temp_max': 245.2,\n",
      "          'temp_min': 245.2},\n",
      " 'name': 'Tiksi',\n",
      " 'sys': {'country': 'RU', 'sunrise': 1644368003, 'sunset': 1644387850},\n",
      " 'timezone': 32400,\n",
      " 'visibility': 10000,\n",
      " 'weather': [{'description': 'broken clouds',\n",
      "              'icon': '04n',\n",
      "              'id': 803,\n",
      "              'main': 'Clouds'}],\n",
      " 'wind': {'deg': 234, 'gust': 5.59, 'speed': 4.15}}\n"
     ]
    }
   ],
   "source": [
    "# Repeat steps above\n",
    "url = \"http://api.openweathermap.org/data/2.5/weather?\"\n",
    "# city = [{\"ostrovnoy\", \"mahebourg\", \"qaanaaq\", \"zhuhai\", \"cape town\",...\"tongren\"}]\n",
    "city = \"tiksi\"\n",
    "\n",
    "query_url = url + \"appid=\" + api_key + \"&q=\" + city\n",
    "query_url\n",
    "print(query_url)\n",
    "\n",
    "weather_response = requests.get(query_url)\n",
    "weather_json = weather_response.json()\n",
    "\n",
    "pprint(weather_json)"
   ]
  },
  {
   "cell_type": "code",
   "execution_count": 17,
   "metadata": {
    "collapsed": true,
    "jupyter": {
     "outputs_hidden": true
    },
    "tags": []
   },
   "outputs": [
    {
     "name": "stdout",
     "output_type": "stream",
     "text": [
      "http://api.openweathermap.org/data/2.5/weather?appid=0b6dfa3892b2a54cd7cb3b5c3fca45da&q=pushkinskiye gory\n",
      "{'base': 'stations',\n",
      " 'clouds': {'all': 100},\n",
      " 'cod': 200,\n",
      " 'coord': {'lat': 57.0209, 'lon': 28.9103},\n",
      " 'dt': 1644365090,\n",
      " 'id': 503965,\n",
      " 'main': {'feels_like': 268.33,\n",
      "          'grnd_level': 985,\n",
      "          'humidity': 98,\n",
      "          'pressure': 1002,\n",
      "          'sea_level': 1002,\n",
      "          'temp': 272.3,\n",
      "          'temp_max': 272.3,\n",
      "          'temp_min': 272.3},\n",
      " 'name': 'Pushkinskiye Gory',\n",
      " 'snow': {'1h': 0.26},\n",
      " 'sys': {'country': 'RU', 'sunrise': 1644385635, 'sunset': 1644418199},\n",
      " 'timezone': 10800,\n",
      " 'visibility': 125,\n",
      " 'weather': [{'description': 'light snow',\n",
      "              'icon': '13n',\n",
      "              'id': 600,\n",
      "              'main': 'Snow'}],\n",
      " 'wind': {'deg': 228, 'gust': 9.74, 'speed': 3.34}}\n"
     ]
    }
   ],
   "source": [
    "# Repeat steps above\n",
    "url = \"http://api.openweathermap.org/data/2.5/weather?\"\n",
    "# city = [{\"ostrovnoy\", \"mahebourg\", \"qaanaaq\", \"zhuhai\", \"cape town\",...\"tongren\"}]\n",
    "city = \"pushkinskiye gory\"\n",
    "\n",
    "query_url = url + \"appid=\" + api_key + \"&q=\" + city\n",
    "query_url\n",
    "print(query_url)\n",
    "\n",
    "weather_response = requests.get(query_url)\n",
    "weather_json = weather_response.json()\n",
    "\n",
    "pprint(weather_json)"
   ]
  },
  {
   "cell_type": "code",
   "execution_count": 19,
   "metadata": {
    "collapsed": true,
    "jupyter": {
     "outputs_hidden": true
    },
    "tags": []
   },
   "outputs": [
    {
     "name": "stdout",
     "output_type": "stream",
     "text": [
      "http://api.openweathermap.org/data/2.5/weather?appid=0b6dfa3892b2a54cd7cb3b5c3fca45da&q=aykhal\n",
      "{'base': 'stations',\n",
      " 'clouds': {'all': 84},\n",
      " 'cod': 200,\n",
      " 'coord': {'lat': 66, 'lon': 111.5},\n",
      " 'dt': 1644365119,\n",
      " 'id': 2027296,\n",
      " 'main': {'feels_like': 238.6,\n",
      "          'grnd_level': 976,\n",
      "          'humidity': 99,\n",
      "          'pressure': 1040,\n",
      "          'sea_level': 1040,\n",
      "          'temp': 245.6,\n",
      "          'temp_max': 245.6,\n",
      "          'temp_min': 245.6},\n",
      " 'name': 'Aykhal',\n",
      " 'sys': {'country': 'RU',\n",
      "         'id': 49565,\n",
      "         'sunrise': 1644368602,\n",
      "         'sunset': 1644395588,\n",
      "         'type': 2},\n",
      " 'timezone': 32400,\n",
      " 'visibility': 10000,\n",
      " 'weather': [{'description': 'broken clouds',\n",
      "              'icon': '04n',\n",
      "              'id': 803,\n",
      "              'main': 'Clouds'}],\n",
      " 'wind': {'deg': 301, 'gust': 1.81, 'speed': 2.04}}\n"
     ]
    }
   ],
   "source": [
    "# Repeat steps above\n",
    "url = \"http://api.openweathermap.org/data/2.5/weather?\"\n",
    "# city = [{\"ostrovnoy\", \"mahebourg\", \"qaanaaq\", \"zhuhai\", \"cape town\",...\"tongren\"}]\n",
    "city = \"aykhal\"\n",
    "\n",
    "query_url = url + \"appid=\" + api_key + \"&q=\" + city\n",
    "query_url\n",
    "print(query_url)\n",
    "\n",
    "weather_response = requests.get(query_url)\n",
    "weather_json = weather_response.json()\n",
    "\n",
    "pprint(weather_json)"
   ]
  },
  {
   "cell_type": "code",
   "execution_count": 20,
   "metadata": {
    "collapsed": true,
    "jupyter": {
     "outputs_hidden": true
    },
    "tags": []
   },
   "outputs": [
    {
     "name": "stdout",
     "output_type": "stream",
     "text": [
      "http://api.openweathermap.org/data/2.5/weather?appid=0b6dfa3892b2a54cd7cb3b5c3fca45da&q=castro\n",
      "{'base': 'stations',\n",
      " 'clouds': {'all': 43},\n",
      " 'cod': 200,\n",
      " 'coord': {'lat': -24.7911, 'lon': -50.0119},\n",
      " 'dt': 1644365128,\n",
      " 'id': 3466704,\n",
      " 'main': {'feels_like': 289.81,\n",
      "          'grnd_level': 902,\n",
      "          'humidity': 92,\n",
      "          'pressure': 1014,\n",
      "          'sea_level': 1014,\n",
      "          'temp': 289.7,\n",
      "          'temp_max': 289.7,\n",
      "          'temp_min': 289.7},\n",
      " 'name': 'Castro',\n",
      " 'sys': {'country': 'BR', 'sunrise': 1644310926, 'sunset': 1644357987},\n",
      " 'timezone': -10800,\n",
      " 'visibility': 10000,\n",
      " 'weather': [{'description': 'scattered clouds',\n",
      "              'icon': '03n',\n",
      "              'id': 802,\n",
      "              'main': 'Clouds'}],\n",
      " 'wind': {'deg': 61, 'gust': 9.05, 'speed': 2.88}}\n"
     ]
    }
   ],
   "source": [
    "# Repeat steps above\n",
    "url = \"http://api.openweathermap.org/data/2.5/weather?\"\n",
    "# city = [{\"ostrovnoy\", \"mahebourg\", \"qaanaaq\", \"zhuhai\", \"cape town\",...\"tongren\"}]\n",
    "city = \"castro\"\n",
    "\n",
    "query_url = url + \"appid=\" + api_key + \"&q=\" + city\n",
    "query_url\n",
    "print(query_url)\n",
    "\n",
    "weather_response = requests.get(query_url)\n",
    "weather_json = weather_response.json()\n",
    "\n",
    "pprint(weather_json)"
   ]
  },
  {
   "cell_type": "markdown",
   "metadata": {},
   "source": [
    "## Generate Cities List"
   ]
  },
  {
   "cell_type": "code",
   "execution_count": 46,
   "metadata": {
    "tags": []
   },
   "outputs": [
    {
     "data": {
      "text/html": [
       "<div>\n",
       "<style scoped>\n",
       "    .dataframe tbody tr th:only-of-type {\n",
       "        vertical-align: middle;\n",
       "    }\n",
       "\n",
       "    .dataframe tbody tr th {\n",
       "        vertical-align: top;\n",
       "    }\n",
       "\n",
       "    .dataframe thead th {\n",
       "        text-align: right;\n",
       "    }\n",
       "</style>\n",
       "<table border=\"1\" class=\"dataframe\">\n",
       "  <thead>\n",
       "    <tr style=\"text-align: right;\">\n",
       "      <th></th>\n",
       "      <th>City</th>\n",
       "      <th>Lat</th>\n",
       "    </tr>\n",
       "  </thead>\n",
       "  <tbody>\n",
       "  </tbody>\n",
       "</table>\n",
       "</div>"
      ],
      "text/plain": [
       "Empty DataFrame\n",
       "Columns: [City, Lat]\n",
       "Index: []"
      ]
     },
     "execution_count": 46,
     "metadata": {},
     "output_type": "execute_result"
    }
   ],
   "source": [
    "# List for holding lat_lngs and cities\n",
    "lat_lngs = []\n",
    "cities = []\n",
    "\n",
    "# Create a set of random lat and lng combinations\n",
    "lats = np.random.uniform(lat_range[0], lat_range[1], size=1500)\n",
    "lngs = np.random.uniform(lng_range[0], lng_range[1], size=1500)\n",
    "lat_lngs = zip(lats, lngs)\n",
    "\n",
    "# Identify nearest city for each lat, lng combination\n",
    "for lat_lng in lat_lngs:\n",
    "    city = citipy.nearest_city(lat_lng[0], lat_lng[1]).city_name\n",
    "    \n",
    "    # If the city is unique, then add it to our cities list\n",
    "    if city not in cities:\n",
    "        cities.append(city)\n",
    "\n",
    "# Print the city count to confirm sufficient count\n",
    "len(cities)\n",
    "\n",
    "# pprint(cities)\n",
    "\n",
    "# for url in url:\n",
    "#     url = \"http://api.openweathermap.org/data/2.5/weather?&appid=\" + api_key\n",
    "# for city in cities:\n",
    "#     city_url = url + \"&q=\" + city\n",
    "raw_lat = {\n",
    "    \"City\": [], \n",
    "    # \"Country\": [], \n",
    "    \"Lat\": []\n",
    "    # \"Lng\": []\n",
    "    }\n",
    "raw_lat_df = pd.DataFrame(raw_lat)\n",
    "raw_lat_df"
   ]
  },
  {
   "cell_type": "code",
   "execution_count": 47,
   "metadata": {
    "tags": []
   },
   "outputs": [
    {
     "data": {
      "text/html": [
       "<div>\n",
       "<style scoped>\n",
       "    .dataframe tbody tr th:only-of-type {\n",
       "        vertical-align: middle;\n",
       "    }\n",
       "\n",
       "    .dataframe tbody tr th {\n",
       "        vertical-align: top;\n",
       "    }\n",
       "\n",
       "    .dataframe thead th {\n",
       "        text-align: right;\n",
       "    }\n",
       "</style>\n",
       "<table border=\"1\" class=\"dataframe\">\n",
       "  <thead>\n",
       "    <tr style=\"text-align: right;\">\n",
       "      <th></th>\n",
       "      <th>City</th>\n",
       "      <th>Lng</th>\n",
       "    </tr>\n",
       "  </thead>\n",
       "  <tbody>\n",
       "  </tbody>\n",
       "</table>\n",
       "</div>"
      ],
      "text/plain": [
       "Empty DataFrame\n",
       "Columns: [City, Lng]\n",
       "Index: []"
      ]
     },
     "execution_count": 47,
     "metadata": {},
     "output_type": "execute_result"
    }
   ],
   "source": [
    "raw_lng = {\n",
    "    \"City\": [],\n",
    "    # \"Country\": [],\n",
    "    \"Lng\": [],\n",
    "    }\n",
    "raw_lng_df = pd.DataFrame(raw_lng)\n",
    "raw_lng_df"
   ]
  },
  {
   "cell_type": "code",
   "execution_count": 48,
   "metadata": {},
   "outputs": [
    {
     "data": {
      "text/html": [
       "<div>\n",
       "<style scoped>\n",
       "    .dataframe tbody tr th:only-of-type {\n",
       "        vertical-align: middle;\n",
       "    }\n",
       "\n",
       "    .dataframe tbody tr th {\n",
       "        vertical-align: top;\n",
       "    }\n",
       "\n",
       "    .dataframe thead th {\n",
       "        text-align: right;\n",
       "    }\n",
       "</style>\n",
       "<table border=\"1\" class=\"dataframe\">\n",
       "  <thead>\n",
       "    <tr style=\"text-align: right;\">\n",
       "      <th></th>\n",
       "      <th>Lat</th>\n",
       "      <th>City</th>\n",
       "      <th>Lng</th>\n",
       "    </tr>\n",
       "  </thead>\n",
       "  <tbody>\n",
       "  </tbody>\n",
       "</table>\n",
       "</div>"
      ],
      "text/plain": [
       "Empty DataFrame\n",
       "Columns: [Lat, City, Lng]\n",
       "Index: []"
      ]
     },
     "execution_count": 48,
     "metadata": {},
     "output_type": "execute_result"
    }
   ],
   "source": [
    "merge_df = pd.merge(raw_lat_df, raw_lng_df, on=\"City\")\n",
    "merge_df"
   ]
  },
  {
   "cell_type": "code",
   "execution_count": 49,
   "metadata": {},
   "outputs": [],
   "source": [
    "# city_latlng_df = pd.DataFrame(city)\n",
    "# print(city_latlng_df)\n",
    "\n",
    "# city_weather = requests.get(city_url).json()\n",
    "\n",
    "# print(url)"
   ]
  },
  {
   "cell_type": "markdown",
   "metadata": {},
   "source": [
    "### Perform API Calls\n",
    "* Perform a weather check on each city using a series of successive API calls.\n",
    "* Include a print log of each city as it'sbeing processed (with the city number and city name).\n"
   ]
  },
  {
   "cell_type": "code",
   "execution_count": null,
   "metadata": {
    "scrolled": true
   },
   "outputs": [],
   "source": [
    "# Save config information\n",
    "base_url = \"http://api.openweathermap.org/data/2.5/weather?\"\n",
    "\n",
    "pd.location_df(lat_lng)\n",
    "pd.location_df\n",
    "\n",
    "lat = \"Lat\": []\n",
    "lng = \"Lng\": []\n",
    "\n",
    "# Build query URL\n"
   ]
  },
  {
   "cell_type": "code",
   "execution_count": null,
   "metadata": {},
   "outputs": [],
   "source": [
    "# Build query URL and request your results in Celsius\n",
    "\n",
    "base_url = \"http://api.openweathermap.org/data/2.5/weather?\"\n",
    "query_url = f\"{base_url}appid={api_key}\"\n",
    "for city in cities:\n",
    "    city_url = url + \"&q=\" + city\n",
    "        \n",
    "city_weather = requests.get(city_url).json()\n",
    "print(query_url)\n",
    "\n",
    "# print(\"------\")\n",
    "\n",
    "# Get weather data\n",
    "# temp = {\"city\": [], \"metric\": [], \"imperial\": []}\n",
    "# cities = [(\"bujumbura\", -3.3752982, 29.2843385), (\"chicago\", 41.8336478, -87.872047)]\n",
    "# for city in cities:\n",
    "#     for u in ['metric', 'imperial']:\n",
    "#         print(u)\n",
    "#         units_query_url = query_url + f\"&lat={city[1]}&lon={city[2]}&units={u}\"\n",
    "#         weather_response = requests.get(units_query_url)\n",
    "#         print(units_query_url)\n",
    "#         weather_json = weather_response.json()\n",
    "#         pprint(weather_json[\"main\"])\n",
    "#         if u == 'metric':\n",
    "#             tempc = weather_json['main']['temp']\n",
    "#         else:\n",
    "#             tempf = weather_json['main']['temp']\n",
    "#         print(\"------\")\n",
    "#     temp[\"metric\"].append(tempc)\n",
    "#     temp[\"imperial\"].append(tempf)\n",
    "#     temp['city'].append(city[0])\n",
    "# print(temp)\n",
    "# pd.DataFrame(temp)"
   ]
  },
  {
   "cell_type": "code",
   "execution_count": null,
   "metadata": {},
   "outputs": [],
   "source": []
  },
  {
   "cell_type": "markdown",
   "metadata": {},
   "source": [
    "### Convert Raw Data to DataFrame\n",
    "* Export the city data into a .csv.\n",
    "* Display the DataFrame"
   ]
  },
  {
   "cell_type": "code",
   "execution_count": null,
   "metadata": {},
   "outputs": [],
   "source": []
  },
  {
   "cell_type": "code",
   "execution_count": null,
   "metadata": {},
   "outputs": [],
   "source": []
  },
  {
   "cell_type": "markdown",
   "metadata": {},
   "source": [
    "## Inspect the data and remove the cities where the humidity > 100%.\n",
    "----\n",
    "Skip this step if there are no cities that have humidity > 100%. "
   ]
  },
  {
   "cell_type": "code",
   "execution_count": null,
   "metadata": {},
   "outputs": [],
   "source": []
  },
  {
   "cell_type": "code",
   "execution_count": null,
   "metadata": {},
   "outputs": [],
   "source": [
    "#  Get the indices of cities that have humidity over 100%.\n"
   ]
  },
  {
   "cell_type": "code",
   "execution_count": null,
   "metadata": {},
   "outputs": [],
   "source": [
    "# Make a new DataFrame equal to the city data to drop all humidity outliers by index.\n",
    "# Passing \"inplace=False\" will make a copy of the city_data DataFrame, which we call \"clean_city_data\".\n"
   ]
  },
  {
   "cell_type": "code",
   "execution_count": null,
   "metadata": {},
   "outputs": [],
   "source": [
    "\n"
   ]
  },
  {
   "cell_type": "markdown",
   "metadata": {},
   "source": [
    "## Plotting the Data\n",
    "* Use proper labeling of the plots using plot titles (including date of analysis) and axes labels.\n",
    "* Save the plotted figures as .pngs."
   ]
  },
  {
   "cell_type": "markdown",
   "metadata": {},
   "source": [
    "## Latitude vs. Temperature Plot"
   ]
  },
  {
   "cell_type": "code",
   "execution_count": null,
   "metadata": {
    "scrolled": true
   },
   "outputs": [],
   "source": []
  },
  {
   "cell_type": "markdown",
   "metadata": {},
   "source": [
    "## Latitude vs. Humidity Plot"
   ]
  },
  {
   "cell_type": "code",
   "execution_count": null,
   "metadata": {},
   "outputs": [],
   "source": []
  },
  {
   "cell_type": "markdown",
   "metadata": {},
   "source": [
    "## Latitude vs. Cloudiness Plot"
   ]
  },
  {
   "cell_type": "code",
   "execution_count": null,
   "metadata": {},
   "outputs": [],
   "source": []
  },
  {
   "cell_type": "markdown",
   "metadata": {},
   "source": [
    "## Latitude vs. Wind Speed Plot"
   ]
  },
  {
   "cell_type": "code",
   "execution_count": null,
   "metadata": {},
   "outputs": [],
   "source": []
  },
  {
   "cell_type": "markdown",
   "metadata": {},
   "source": [
    "## Linear Regression"
   ]
  },
  {
   "cell_type": "code",
   "execution_count": null,
   "metadata": {},
   "outputs": [],
   "source": []
  },
  {
   "cell_type": "markdown",
   "metadata": {},
   "source": [
    "####  Northern Hemisphere - Max Temp vs. Latitude Linear Regression"
   ]
  },
  {
   "cell_type": "code",
   "execution_count": null,
   "metadata": {},
   "outputs": [],
   "source": []
  },
  {
   "cell_type": "markdown",
   "metadata": {},
   "source": [
    "####  Southern Hemisphere - Max Temp vs. Latitude Linear Regression"
   ]
  },
  {
   "cell_type": "code",
   "execution_count": null,
   "metadata": {},
   "outputs": [],
   "source": []
  },
  {
   "cell_type": "markdown",
   "metadata": {},
   "source": [
    "####  Northern Hemisphere - Humidity (%) vs. Latitude Linear Regression"
   ]
  },
  {
   "cell_type": "code",
   "execution_count": null,
   "metadata": {},
   "outputs": [],
   "source": []
  },
  {
   "cell_type": "markdown",
   "metadata": {},
   "source": [
    "####  Southern Hemisphere - Humidity (%) vs. Latitude Linear Regression"
   ]
  },
  {
   "cell_type": "code",
   "execution_count": null,
   "metadata": {},
   "outputs": [],
   "source": []
  },
  {
   "cell_type": "markdown",
   "metadata": {},
   "source": [
    "####  Northern Hemisphere - Cloudiness (%) vs. Latitude Linear Regression"
   ]
  },
  {
   "cell_type": "code",
   "execution_count": null,
   "metadata": {},
   "outputs": [],
   "source": []
  },
  {
   "cell_type": "markdown",
   "metadata": {},
   "source": [
    "####  Southern Hemisphere - Cloudiness (%) vs. Latitude Linear Regression"
   ]
  },
  {
   "cell_type": "code",
   "execution_count": null,
   "metadata": {},
   "outputs": [],
   "source": []
  },
  {
   "cell_type": "markdown",
   "metadata": {},
   "source": [
    "####  Northern Hemisphere - Wind Speed (mph) vs. Latitude Linear Regression"
   ]
  },
  {
   "cell_type": "code",
   "execution_count": null,
   "metadata": {},
   "outputs": [],
   "source": []
  },
  {
   "cell_type": "markdown",
   "metadata": {},
   "source": [
    "####  Southern Hemisphere - Wind Speed (mph) vs. Latitude Linear Regression"
   ]
  },
  {
   "cell_type": "code",
   "execution_count": null,
   "metadata": {},
   "outputs": [],
   "source": []
  },
  {
   "cell_type": "code",
   "execution_count": null,
   "metadata": {},
   "outputs": [],
   "source": []
  }
 ],
 "metadata": {
  "anaconda-cloud": {},
  "kernel_info": {
   "name": "python3"
  },
  "kernelspec": {
   "display_name": "Python 3 (ipykernel)",
   "language": "python",
   "name": "python3"
  },
  "language_info": {
   "codemirror_mode": {
    "name": "ipython",
    "version": 3
   },
   "file_extension": ".py",
   "mimetype": "text/x-python",
   "name": "python",
   "nbconvert_exporter": "python",
   "pygments_lexer": "ipython3",
   "version": "3.9.7"
  },
  "latex_envs": {
   "LaTeX_envs_menu_present": true,
   "autoclose": false,
   "autocomplete": true,
   "bibliofile": "biblio.bib",
   "cite_by": "apalike",
   "current_citInitial": 1,
   "eqLabelWithNumbers": true,
   "eqNumInitial": 1,
   "hotkeys": {
    "equation": "Ctrl-E",
    "itemize": "Ctrl-I"
   },
   "labels_anchors": false,
   "latex_user_defs": false,
   "report_style_numbering": false,
   "user_envs_cfg": false
  },
  "nteract": {
   "version": "0.12.3"
  }
 },
 "nbformat": 4,
 "nbformat_minor": 4
}
